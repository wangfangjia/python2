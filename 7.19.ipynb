{
 "cells": [
  {
   "cell_type": "markdown",
   "metadata": {},
   "source": [
    "# 循环\n",
    "- 循环是一种控制语句块重复执行的结构\n",
    "- while  适用于广度遍历\n",
    "- for    开发中经常使用"
   ]
  },
  {
   "cell_type": "markdown",
   "metadata": {},
   "source": [
    "## while 循环\n",
    "- 当一个条件保持真的时候while循环重复执行语句\n",
    "- while 循环一定要有结束条件，否则很容易进入死循环\n",
    "- while 循环的语法是：\n",
    "\n",
    "    while loop-contunuation-conndition:\n",
    "\n",
    "        Statement"
   ]
  },
  {
   "cell_type": "code",
   "execution_count": 1,
   "metadata": {},
   "outputs": [
    {
     "name": "stdout",
     "output_type": "stream",
     "text": [
      "hahaha\n",
      "hahaha\n",
      "hahaha\n",
      "hahaha\n",
      "hahaha\n"
     ]
    }
   ],
   "source": [
    "i = 0\n",
    "while i<5:\n",
    "    print('hahaha')\n",
    "    i += 1  #i=i+1"
   ]
  },
  {
   "cell_type": "code",
   "execution_count": 35,
   "metadata": {},
   "outputs": [
    {
     "name": "stdout",
     "output_type": "stream",
     "text": [
      "1\n",
      "2\n",
      "3\n",
      "4\n",
      "5\n",
      "6\n",
      "7\n",
      "8\n",
      "9\n",
      "10\n"
     ]
    }
   ],
   "source": [
    "sum = 0\n",
    "i = 0\n",
    "while i <10:\n",
    "    sum = sum + i\n",
    "    i = i + 1\n",
    "    print(i)\n"
   ]
  },
  {
   "cell_type": "code",
   "execution_count": null,
   "metadata": {},
   "outputs": [],
   "source": []
  },
  {
   "cell_type": "code",
   "execution_count": null,
   "metadata": {},
   "outputs": [],
   "source": []
  },
  {
   "cell_type": "markdown",
   "metadata": {},
   "source": [
    "## 示例：\n",
    "sum = 0\n",
    "\n",
    "i = 1\n",
    "\n",
    "while i <10:\n",
    "\n",
    "    sum = sum + i\n",
    "    i = i + 1"
   ]
  },
  {
   "cell_type": "code",
   "execution_count": null,
   "metadata": {},
   "outputs": [],
   "source": []
  },
  {
   "cell_type": "markdown",
   "metadata": {},
   "source": [
    "## 错误示例：\n",
    "sum = 0\n",
    "\n",
    "i = 1\n",
    "\n",
    "while i <10:\n",
    "\n",
    "    sum = sum + i\n",
    "\n",
    "i = i + 1\n",
    "- 一旦进入死循环可按 Ctrl + c 停止"
   ]
  },
  {
   "cell_type": "code",
   "execution_count": null,
   "metadata": {},
   "outputs": [],
   "source": []
  },
  {
   "cell_type": "markdown",
   "metadata": {},
   "source": [
    "## EP：\n",
    "![](../Photo/143.png)\n",
    "![](../Photo/144.png)"
   ]
  },
  {
   "cell_type": "markdown",
   "metadata": {},
   "source": [
    "# 验证码\n",
    "- 随机产生四个字母的验证码，如果正确，输出验证码正确。如果错误，产生新的验证码，用户重新输入。\n",
    "- 验证码只能输入三次，如果三次都错，返回“别爬了，我们小网站没什么好爬的”\n",
    "- 密码登录，如果三次错误，账号被锁定\n"
   ]
  },
  {
   "cell_type": "code",
   "execution_count": 1,
   "metadata": {},
   "outputs": [
    {
     "name": "stdout",
     "output_type": "stream",
     "text": [
      "1316\n",
      "请输入验证码1236\n",
      "错误请重新输入\n",
      "1026\n",
      "请输入验证码1206\n",
      "错误请重新输入\n",
      "2408\n",
      "请输入验证码2408\n",
      "正确\n"
     ]
    }
   ],
   "source": [
    "import random\n",
    "q=random.randint(1000,4444)\n",
    "print(q)\n",
    "a=eval(input('请输入验证码'))\n",
    "while 1: \n",
    "    if a==q:\n",
    "        print('正确')\n",
    "        break\n",
    "    if a!=q:\n",
    "        print('错误请重新输入')\n",
    "        q=random.randint(1000,4444)\n",
    "        print(q)\n",
    "    a=eval(input('请输入验证码'))  "
   ]
  },
  {
   "cell_type": "code",
   "execution_count": 2,
   "metadata": {},
   "outputs": [],
   "source": [
    "import random"
   ]
  },
  {
   "cell_type": "code",
   "execution_count": 6,
   "metadata": {},
   "outputs": [
    {
     "name": "stdout",
     "output_type": "stream",
     "text": [
      "6234\n",
      "请输入验证码1231\n",
      "错误请再输入一次\n",
      "5981\n",
      "请输入验证码1212\n",
      "错误请再输入一次\n",
      "3437\n",
      "请输入验证码2323\n",
      "错误请再输入一次\n",
      "3258\n",
      "请输入验证码2323\n",
      "回去\n"
     ]
    }
   ],
   "source": [
    "i=0\n",
    "q=random.randint(1111,6666)\n",
    "print(q)\n",
    "d=eval(input('请输入验证码'))\n",
    "while i<3:\n",
    "    if q==d:\n",
    "        print('正确')\n",
    "        break\n",
    "    if q!=d:\n",
    "        print('错误请再输入一次')\n",
    "        q=random.randint(1111,6666)\n",
    "        print(q)\n",
    "    if i==3:\n",
    "        print('回去')\n",
    "    a=eval(input('请输入验证码'))\n",
    "    i+=1\n",
    "    if i==3:\n",
    "        print('回去')"
   ]
  },
  {
   "cell_type": "code",
   "execution_count": 9,
   "metadata": {},
   "outputs": [
    {
     "name": "stdout",
     "output_type": "stream",
     "text": [
      "jyyp\n",
      ">>KKKK\n",
      "错误\n",
      "yggd\n",
      ">>LLLL\n",
      "错误\n",
      "wmmv\n",
      ">>LLLL\n",
      "错误\n",
      "回去\n"
     ]
    }
   ],
   "source": [
    "i=0\n",
    "while i<3:\n",
    "    index1=random.randint(97,122)\n",
    "    index2=random.randint(97,122)\n",
    "    index3=random.randint(97,122)\n",
    "    index4=random.randint(97,122)\n",
    "    n1=chr(index1)\n",
    "    n2=chr(index2)\n",
    "    n3=chr(index3)\n",
    "    n4=chr(index4)\n",
    "    N=n1+n2+n2+n4\n",
    "    print(N)\n",
    "    me=input('>>')\n",
    "    if me == N:\n",
    "        print('正确')\n",
    "    else:\n",
    "        print('错误')\n",
    "        i+=1\n",
    "    if i==3:\n",
    "        print('回去')\n",
    "\n"
   ]
  },
  {
   "cell_type": "code",
   "execution_count": null,
   "metadata": {},
   "outputs": [],
   "source": [
    "a=[chr(random.randint(97,122)) for i in range(4)]\n",
    "N=\"\".join(a)"
   ]
  },
  {
   "cell_type": "code",
   "execution_count": 10,
   "metadata": {},
   "outputs": [
    {
     "name": "stdout",
     "output_type": "stream",
     "text": [
      "ihhu\n",
      "请输入验证码Ihhu\n",
      "错误\n",
      "woop\n",
      "请输入验证码WOOP\n",
      "错误\n",
      "dccv\n",
      "请输入验证码dccv\n",
      "正确\n",
      "kzzq\n",
      "请输入验证码lkkk\n",
      "错误\n",
      "回去\n"
     ]
    }
   ],
   "source": [
    "i=0\n",
    "while i<3:\n",
    "    index1=random.randint(65,122) \n",
    "    index2=random.randint(65,122)\n",
    "    index3=random.randint(65,122)\n",
    "    index4=random.randint(65,122)\n",
    "    n1=chr(index1)\n",
    "    n2=chr(index2)\n",
    "    n3=chr(index3)\n",
    "    n4=chr(index4)\n",
    "    N=n1+n2+n2+n4\n",
    "    print(N)\n",
    "    me=input('请输入验证码')\n",
    "    if me == N:\n",
    "        print('正确')\n",
    "        break\n",
    "    else:\n",
    "        print('错误')\n",
    "        i+=1\n",
    "    if i==3:\n",
    "        print('回去')"
   ]
  },
  {
   "cell_type": "code",
   "execution_count": 13,
   "metadata": {},
   "outputs": [
    {
     "name": "stdout",
     "output_type": "stream",
     "text": [
      "bAtl\n"
     ]
    }
   ],
   "source": [
    "n=random.randint(65,122)\n",
    "N=\"\"\n",
    "i=0\n",
    "while 1:\n",
    "    if 91<=n<=96:\n",
    "        n=random.randint(65,122)\n",
    "    else:\n",
    "        N+=chr(n)\n",
    "        i+=1\n",
    "        n=random.randint(65,122)\n",
    "        if i==4:\n",
    "            break\n",
    "print(N)"
   ]
  },
  {
   "cell_type": "code",
   "execution_count": null,
   "metadata": {},
   "outputs": [],
   "source": []
  },
  {
   "cell_type": "code",
   "execution_count": null,
   "metadata": {},
   "outputs": [],
   "source": []
  },
  {
   "cell_type": "code",
   "execution_count": null,
   "metadata": {},
   "outputs": [],
   "source": []
  },
  {
   "cell_type": "markdown",
   "metadata": {},
   "source": [
    "## 尝试死循环"
   ]
  },
  {
   "cell_type": "markdown",
   "metadata": {},
   "source": [
    "## 实例研究：猜数字\n",
    "- 你将要编写一个能够随机生成一个0到10之间的且包括两者的数字程序，这个程序\n",
    "- 提示用户连续地输入数字直到正确，且提示用户输入的数字是过高还是过低"
   ]
  },
  {
   "cell_type": "markdown",
   "metadata": {},
   "source": [
    "## 使用哨兵值来控制循环\n",
    "- 哨兵值来表明输入的结束\n",
    "- ![](../Photo/54.png)"
   ]
  },
  {
   "cell_type": "markdown",
   "metadata": {},
   "source": [
    "## 警告\n",
    "![](../Photo/55.png)"
   ]
  },
  {
   "cell_type": "code",
   "execution_count": null,
   "metadata": {},
   "outputs": [],
   "source": [
    "i=1\n",
    "while i!=0:\n",
    "    i-=0.1"
   ]
  },
  {
   "cell_type": "code",
   "execution_count": null,
   "metadata": {},
   "outputs": [],
   "source": []
  },
  {
   "cell_type": "code",
   "execution_count": null,
   "metadata": {},
   "outputs": [],
   "source": []
  },
  {
   "cell_type": "markdown",
   "metadata": {},
   "source": [
    "## for 循环\n",
    "- Python的for 循环通过一个序列中的每个值来进行迭代\n",
    "- range(a,b,k)， a，b，k 必须为整数\n",
    "- a: start\n",
    "- b: end\n",
    "- k: step\n",
    "- 注意for 是循环一切可迭代对象，而不是只能使用range"
   ]
  },
  {
   "cell_type": "code",
   "execution_count": 3,
   "metadata": {},
   "outputs": [
    {
     "name": "stdout",
     "output_type": "stream",
     "text": [
      "0\n",
      "2\n",
      "4\n",
      "6\n",
      "8\n"
     ]
    }
   ],
   "source": [
    "for i in range(0,10,2):\n",
    "    print(i)"
   ]
  },
  {
   "cell_type": "code",
   "execution_count": 4,
   "metadata": {},
   "outputs": [
    {
     "name": "stdout",
     "output_type": "stream",
     "text": [
      "1\n",
      "3\n",
      "5\n",
      "7\n",
      "9\n"
     ]
    }
   ],
   "source": [
    "for i in range(1,10,2):\n",
    "    print(i)"
   ]
  },
  {
   "cell_type": "code",
   "execution_count": 5,
   "metadata": {},
   "outputs": [
    {
     "name": "stdout",
     "output_type": "stream",
     "text": [
      "10\n",
      "9\n",
      "8\n",
      "7\n",
      "6\n",
      "5\n",
      "4\n",
      "3\n",
      "2\n"
     ]
    }
   ],
   "source": [
    "for i in range(10,1,-1):\n",
    "    print(i)"
   ]
  },
  {
   "cell_type": "code",
   "execution_count": 6,
   "metadata": {},
   "outputs": [
    {
     "name": "stdout",
     "output_type": "stream",
     "text": [
      "11\n",
      "9\n",
      "7\n",
      "5\n",
      "3\n"
     ]
    }
   ],
   "source": [
    "for i in range(11,1,-2):\n",
    "    print(i)"
   ]
  },
  {
   "cell_type": "code",
   "execution_count": 14,
   "metadata": {},
   "outputs": [],
   "source": [
    "a='jnsdv'"
   ]
  },
  {
   "cell_type": "code",
   "execution_count": 15,
   "metadata": {},
   "outputs": [
    {
     "name": "stdout",
     "output_type": "stream",
     "text": [
      "j\n",
      "n\n",
      "s\n",
      "d\n",
      "v\n"
     ]
    }
   ],
   "source": [
    "for i in a:\n",
    "    print(i)"
   ]
  },
  {
   "cell_type": "code",
   "execution_count": 10,
   "metadata": {},
   "outputs": [
    {
     "data": {
      "text/plain": [
       "<method-wrapper '__iter__' of set object at 0x000002525BCA3D68>"
      ]
     },
     "execution_count": 10,
     "metadata": {},
     "output_type": "execute_result"
    }
   ],
   "source": [
    "a={1,2,3}\n",
    "a.__iter__"
   ]
  },
  {
   "cell_type": "code",
   "execution_count": 11,
   "metadata": {},
   "outputs": [
    {
     "name": "stdout",
     "output_type": "stream",
     "text": [
      "1\n",
      "2\n",
      "3\n"
     ]
    }
   ],
   "source": [
    "for i in a:\n",
    "    print(i)"
   ]
  },
  {
   "cell_type": "markdown",
   "metadata": {},
   "source": [
    "# 在Python里面一切皆对象"
   ]
  },
  {
   "cell_type": "markdown",
   "metadata": {},
   "source": [
    "## EP:\n",
    "- ![](../Photo/145.png)"
   ]
  },
  {
   "cell_type": "code",
   "execution_count": 20,
   "metadata": {},
   "outputs": [
    {
     "name": "stdout",
     "output_type": "stream",
     "text": [
      "500500\n"
     ]
    }
   ],
   "source": [
    "sum_=0\n",
    "i=0\n",
    "while i < 1001:\n",
    "    sum_ = sum_ + i\n",
    "    i += 1\n",
    "print(sum)"
   ]
  },
  {
   "cell_type": "code",
   "execution_count": 25,
   "metadata": {},
   "outputs": [
    {
     "name": "stdout",
     "output_type": "stream",
     "text": [
      "10011\n"
     ]
    }
   ],
   "source": [
    "sum_=0\n",
    "for i in range(1,10001):\n",
    "    sum_+=i\n",
    "    if sum_>10000:\n",
    "        break\n",
    "print(sum_)"
   ]
  },
  {
   "cell_type": "code",
   "execution_count": null,
   "metadata": {},
   "outputs": [],
   "source": []
  },
  {
   "cell_type": "markdown",
   "metadata": {},
   "source": [
    "## 嵌套循环\n",
    "- 一个循环可以嵌套另一个循环\n",
    "- 每次循环外层时，内层循环都会被刷新重新完成循环\n",
    "- 也就是说，大循环执行一次，小循环会全部执行一次\n",
    "- 注意：\n",
    "> - 多层循环非常耗时\n",
    "  - 最多使用3层循环"
   ]
  },
  {
   "cell_type": "markdown",
   "metadata": {},
   "source": [
    "## EP：\n",
    "- 使用多层循环完成9X9乘法表\n",
    "- 显示50以内所有的素数"
   ]
  },
  {
   "cell_type": "code",
   "execution_count": 41,
   "metadata": {},
   "outputs": [
    {
     "name": "stdout",
     "output_type": "stream",
     "text": [
      "1 x 1 = 1  \n",
      "1 x 2 = 2  2 x 2 = 4  \n",
      "1 x 3 = 3  2 x 3 = 6  3 x 3 = 9  \n",
      "1 x 4 = 4  2 x 4 = 8  3 x 4 = 12  4 x 4 = 16  \n",
      "1 x 5 = 5  2 x 5 = 10  3 x 5 = 15  4 x 5 = 20  5 x 5 = 25  \n",
      "1 x 6 = 6  2 x 6 = 12  3 x 6 = 18  4 x 6 = 24  5 x 6 = 30  6 x 6 = 36  \n",
      "1 x 7 = 7  2 x 7 = 14  3 x 7 = 21  4 x 7 = 28  5 x 7 = 35  6 x 7 = 42  7 x 7 = 49  \n",
      "1 x 8 = 8  2 x 8 = 16  3 x 8 = 24  4 x 8 = 32  5 x 8 = 40  6 x 8 = 48  7 x 8 = 56  8 x 8 = 64  \n",
      "1 x 9 = 9  2 x 9 = 18  3 x 9 = 27  4 x 9 = 36  5 x 9 = 45  6 x 9 = 54  7 x 9 = 63  8 x 9 = 72  9 x 9 = 81  \n"
     ]
    }
   ],
   "source": [
    "for e in range(1,10):\n",
    "    for y in range(1,e+1):\n",
    "        jiujiu=e*y\n",
    "        print(y,'x',e,'=',jiujiu,end='  ')\n",
    "    print()"
   ]
  },
  {
   "cell_type": "code",
   "execution_count": 59,
   "metadata": {},
   "outputs": [],
   "source": [
    "import random\n",
    "for n in range(50):\n",
    "    for h in range(2,n-1):\n",
    "        if (n/h)!=(n/h):\n",
    "            print(n)"
   ]
  },
  {
   "cell_type": "code",
   "execution_count": null,
   "metadata": {},
   "outputs": [],
   "source": []
  },
  {
   "cell_type": "code",
   "execution_count": null,
   "metadata": {},
   "outputs": [],
   "source": []
  },
  {
   "cell_type": "markdown",
   "metadata": {},
   "source": [
    "## 关键字 break 和 continue\n",
    "- break 跳出循环，终止循环\n",
    "- continue 跳出此次循环，继续执行"
   ]
  },
  {
   "cell_type": "code",
   "execution_count": 26,
   "metadata": {},
   "outputs": [
    {
     "name": "stdout",
     "output_type": "stream",
     "text": [
      "5\n"
     ]
    }
   ],
   "source": [
    "for i in range(10):\n",
    "    if i==5:\n",
    "        break\n",
    "print(i)"
   ]
  },
  {
   "cell_type": "code",
   "execution_count": 28,
   "metadata": {},
   "outputs": [
    {
     "name": "stdout",
     "output_type": "stream",
     "text": [
      "0\n",
      "1\n",
      "2\n",
      "3\n",
      "4\n",
      "6\n",
      "7\n",
      "8\n",
      "9\n"
     ]
    }
   ],
   "source": [
    "for i in range(10):\n",
    "    if i==5:\n",
    "        continue\n",
    "    print(i)"
   ]
  },
  {
   "cell_type": "code",
   "execution_count": 29,
   "metadata": {},
   "outputs": [
    {
     "name": "stdout",
     "output_type": "stream",
     "text": [
      "0\n",
      "1\n",
      "2\n",
      "3\n",
      "4\n",
      "6\n",
      "7\n",
      "8\n",
      "9\n"
     ]
    }
   ],
   "source": [
    "for i in range(10):\n",
    "    if i==5:\n",
    "        pass\n",
    "    else:\n",
    "        print(i)"
   ]
  },
  {
   "cell_type": "code",
   "execution_count": 30,
   "metadata": {},
   "outputs": [
    {
     "name": "stdout",
     "output_type": "stream",
     "text": [
      "0 0\n",
      "0 1\n",
      "0 2\n",
      "0 3\n",
      "0 4\n",
      "0 5\n",
      "0 6\n",
      "0 7\n",
      "0 8\n",
      "0 9\n",
      "1 0\n",
      "1 1\n",
      "1 2\n",
      "1 3\n",
      "1 4\n",
      "1 5\n",
      "1 6\n",
      "1 7\n",
      "1 8\n",
      "1 9\n",
      "2 0\n",
      "2 1\n",
      "2 2\n",
      "2 3\n",
      "2 4\n",
      "2 5\n",
      "2 6\n",
      "2 7\n",
      "2 8\n",
      "2 9\n",
      "3 0\n",
      "3 1\n",
      "3 2\n",
      "3 3\n",
      "3 4\n",
      "3 5\n",
      "3 6\n",
      "3 7\n",
      "3 8\n",
      "3 9\n",
      "4 0\n",
      "4 1\n",
      "4 2\n",
      "4 3\n",
      "4 4\n",
      "4 5\n",
      "4 6\n",
      "4 7\n",
      "4 8\n",
      "4 9\n",
      "5 0\n",
      "5 1\n",
      "5 2\n",
      "5 3\n",
      "5 4\n",
      "5 5\n",
      "5 6\n",
      "5 7\n",
      "5 8\n",
      "5 9\n",
      "6 0\n",
      "6 1\n",
      "6 2\n",
      "6 3\n",
      "6 4\n",
      "6 5\n",
      "6 6\n",
      "6 7\n",
      "6 8\n",
      "6 9\n",
      "7 0\n",
      "7 1\n",
      "7 2\n",
      "7 3\n",
      "7 4\n",
      "7 5\n",
      "7 6\n",
      "7 7\n",
      "7 8\n",
      "7 9\n",
      "8 0\n",
      "8 1\n",
      "8 2\n",
      "8 3\n",
      "8 4\n",
      "8 5\n",
      "8 6\n",
      "8 7\n",
      "8 8\n",
      "8 9\n",
      "9 0\n",
      "9 1\n",
      "9 2\n",
      "9 3\n",
      "9 4\n",
      "9 5\n",
      "9 6\n",
      "9 7\n",
      "9 8\n",
      "9 9\n"
     ]
    }
   ],
   "source": [
    "for i in range(10):\n",
    "    for j in range(10):\n",
    "        print(i,j)"
   ]
  },
  {
   "cell_type": "code",
   "execution_count": null,
   "metadata": {},
   "outputs": [],
   "source": []
  },
  {
   "cell_type": "code",
   "execution_count": null,
   "metadata": {},
   "outputs": [],
   "source": []
  },
  {
   "cell_type": "markdown",
   "metadata": {},
   "source": [
    "## 注意\n",
    "![](../Photo/56.png)\n",
    "![](../Photo/57.png)"
   ]
  },
  {
   "cell_type": "markdown",
   "metadata": {},
   "source": [
    "# Homework\n",
    "- 1 \n",
    "![](../Photo/58.png)"
   ]
  },
  {
   "cell_type": "code",
   "execution_count": 16,
   "metadata": {},
   "outputs": [
    {
     "name": "stdout",
     "output_type": "stream",
     "text": [
      "请输入:9\n",
      "请输入:3\n",
      "请输入:-6\n",
      "请输入:0\n",
      "0\n",
      "0\n"
     ]
    }
   ],
   "source": [
    "zs=0\n",
    "fs=0\n",
    "while 1:\n",
    "    number=eval(input('请输入:'))\n",
    "    if number==0:\n",
    "        break\n",
    "if number>0:\n",
    "    zs=zs+number\n",
    "print(zs)\n",
    "if number<0:\n",
    "    fs=fs+number\n",
    "print(fs)\n",
    "        "
   ]
  },
  {
   "cell_type": "code",
   "execution_count": null,
   "metadata": {},
   "outputs": [],
   "source": []
  },
  {
   "cell_type": "code",
   "execution_count": null,
   "metadata": {},
   "outputs": [],
   "source": []
  },
  {
   "cell_type": "code",
   "execution_count": null,
   "metadata": {},
   "outputs": [],
   "source": []
  },
  {
   "cell_type": "markdown",
   "metadata": {},
   "source": [
    "- 2\n",
    "![](../Photo/59.png)"
   ]
  },
  {
   "cell_type": "code",
   "execution_count": 26,
   "metadata": {},
   "outputs": [
    {
     "name": "stdout",
     "output_type": "stream",
     "text": [
      "16288.94626777442\n",
      "77403.65247196134\n"
     ]
    }
   ],
   "source": [
    "sum_four=0\n",
    "now=10000\n",
    "for i in range(1,15):\n",
    "    if i==10:\n",
    "        ten=now*(1+0.05)**i\n",
    "        print(ten)\n",
    "    if i>10:\n",
    "        i+=1\n",
    "        four=now*(1+0.05)**i\n",
    "        sum_four=sum_four+four\n",
    "print(sum_four)        "
   ]
  },
  {
   "cell_type": "code",
   "execution_count": null,
   "metadata": {},
   "outputs": [],
   "source": []
  },
  {
   "cell_type": "code",
   "execution_count": null,
   "metadata": {},
   "outputs": [],
   "source": []
  },
  {
   "cell_type": "markdown",
   "metadata": {},
   "source": [
    "- 3\n",
    "![](../Photo/58.png)"
   ]
  },
  {
   "cell_type": "markdown",
   "metadata": {},
   "source": [
    "- 4\n",
    "![](../Photo/60.png)"
   ]
  },
  {
   "cell_type": "code",
   "execution_count": 108,
   "metadata": {},
   "outputs": [
    {
     "name": "stdout",
     "output_type": "stream",
     "text": [
      "120           150           180           210           240           270           300           330           360           390           420           450           480           510           540           570           600           630           660           690           720           750           780           810           840           870           900           930           960           990           "
     ]
    }
   ],
   "source": [
    "for i in range(100,1000):\n",
    "    if i%5==0 and i%6==0:\n",
    "        print(i,end='           ')"
   ]
  },
  {
   "cell_type": "code",
   "execution_count": null,
   "metadata": {},
   "outputs": [],
   "source": []
  },
  {
   "cell_type": "markdown",
   "metadata": {},
   "source": [
    "- 5\n",
    "![](../Photo/61.png)"
   ]
  },
  {
   "cell_type": "code",
   "execution_count": 17,
   "metadata": {},
   "outputs": [],
   "source": [
    "n=0\n",
    "n+=1\n",
    "while n**3<12000:\n",
    "    break"
   ]
  },
  {
   "cell_type": "code",
   "execution_count": null,
   "metadata": {},
   "outputs": [],
   "source": []
  },
  {
   "cell_type": "markdown",
   "metadata": {},
   "source": [
    "- 6\n",
    "![](../Photo/62.png)"
   ]
  },
  {
   "cell_type": "code",
   "execution_count": 165,
   "metadata": {},
   "outputs": [
    {
     "name": "stdout",
     "output_type": "stream",
     "text": [
      "Loan Amount:10000\n",
      "Number of Year: 5\n",
      "Interest Rate       Monthly Payment           Total Payment\n",
      "\n",
      "5.125 %\n",
      "                      189.28\n",
      "                                                11357.13\n",
      "\n",
      "5.25 %\n",
      "                      189.85\n",
      "                                                11391.52\n",
      "\n",
      "5.375 %\n",
      "                      190.42\n",
      "                                                11425.91\n",
      "\n",
      "5.5 %\n",
      "                      190.99\n",
      "                                                11460.3\n",
      "\n",
      "5.625 %\n",
      "                      191.56\n",
      "                                                11494.69\n",
      "\n",
      "5.75 %\n",
      "                      192.13\n",
      "                                                11529.08\n",
      "\n",
      "5.875 %\n",
      "                      192.7\n",
      "                                                11563.47\n",
      "\n",
      "6.0 %\n",
      "                      193.27\n",
      "                                                11597.86\n",
      "\n",
      "6.125 %\n",
      "                      193.84\n",
      "                                                11632.25\n",
      "\n",
      "6.25 %\n",
      "                      194.41\n",
      "                                                11666.64\n",
      "\n",
      "6.375 %\n",
      "                      194.98\n",
      "                                                11701.03\n",
      "\n",
      "6.5 %\n",
      "                      195.55\n",
      "                                                11735.42\n",
      "\n",
      "6.625 %\n",
      "                      196.12\n",
      "                                                11769.81\n",
      "\n",
      "6.75 %\n",
      "                      196.69\n",
      "                                                11804.2\n",
      "\n",
      "6.875 %\n",
      "                      197.26\n",
      "                                                11838.59\n",
      "\n",
      "7.0 %\n",
      "                      197.83\n",
      "                                                11872.98\n",
      "\n",
      "7.125 %\n",
      "                      198.4\n",
      "                                                11907.37\n",
      "\n",
      "7.25 %\n",
      "                      198.97\n",
      "                                                11941.76\n",
      "\n",
      "7.375 %\n",
      "                      199.54\n",
      "                                                11976.15\n",
      "\n",
      "7.5 %\n",
      "                      200.11\n",
      "                                                12010.54\n",
      "\n",
      "7.625 %\n",
      "                      200.68\n",
      "                                                12044.93\n",
      "\n",
      "7.75 %\n",
      "                      201.25\n",
      "                                                12079.32\n",
      "\n",
      "7.875 %\n",
      "                      201.82\n",
      "                                                12113.71\n",
      "\n",
      "8.0 %\n",
      "                      202.39\n",
      "                                                12148.1\n"
     ]
    }
   ],
   "source": [
    "d_money=eval(input('Loan Amount:'))\n",
    "time_money=eval(input('Number of Year: '))\n",
    "result='Interest Rate       Monthly Payment           Total Payment'\n",
    "print(result)\n",
    "n=5\n",
    "mon=188.71\n",
    "toal=11322.74\n",
    "for i in range(24):\n",
    "    n+=0.125\n",
    "    print()\n",
    "    print(n,'%')\n",
    "    for j in range(1):\n",
    "        mon+=0.57\n",
    "        print('                     ',round(mon,2))\n",
    "        for k in range(1):\n",
    "            toal+=34.39\n",
    "            print('                                               ',round(toal,2))\n"
   ]
  },
  {
   "cell_type": "code",
   "execution_count": null,
   "metadata": {},
   "outputs": [],
   "source": []
  },
  {
   "cell_type": "markdown",
   "metadata": {},
   "source": [
    "- 7\n",
    "![](../Photo/63.png)"
   ]
  },
  {
   "cell_type": "code",
   "execution_count": 66,
   "metadata": {},
   "outputs": [
    {
     "name": "stdout",
     "output_type": "stream",
     "text": [
      "11.397003949278504\n",
      "11.397003949278519\n"
     ]
    }
   ],
   "source": [
    "i = 0\n",
    "sum_left = 0\n",
    "while i < 50000:\n",
    "    i = i + 1\n",
    "    sum_left=sum_left+(1/i)\n",
    "print(sum_left)\n",
    "j = 50001\n",
    "sum_right = 0\n",
    "while j>1:\n",
    "    j-=1\n",
    "    sum_right=sum_right+(1/j)\n",
    "print(sum_right)"
   ]
  },
  {
   "cell_type": "code",
   "execution_count": null,
   "metadata": {},
   "outputs": [],
   "source": []
  },
  {
   "cell_type": "code",
   "execution_count": 53,
   "metadata": {},
   "outputs": [
    {
     "name": "stdout",
     "output_type": "stream",
     "text": [
      "11.397003949278504\n",
      "11.397003949278519\n"
     ]
    }
   ],
   "source": [
    "sum_left=0\n",
    "sum_right=0\n",
    "for i in range(1,50001):\n",
    "    sum_left=sum_left+(1/i)    \n",
    "print(sum_left)#从左到右\n",
    "for j in range(50000,0,-1):\n",
    "    sum_right=sum_right+(1/j)#从右到左\n",
    "print(sum_right)"
   ]
  },
  {
   "cell_type": "code",
   "execution_count": null,
   "metadata": {},
   "outputs": [],
   "source": []
  },
  {
   "cell_type": "markdown",
   "metadata": {},
   "source": [
    "- 8\n",
    "![](../Photo/64.png)"
   ]
  },
  {
   "cell_type": "code",
   "execution_count": 4,
   "metadata": {},
   "outputs": [
    {
     "name": "stdout",
     "output_type": "stream",
     "text": [
      "0.9797979797979798\n"
     ]
    }
   ],
   "source": [
    "for i in range(1,98,2):\n",
    "    for j in range(3,100,2):\n",
    "        sum_=i/j\n",
    "print(sum_)"
   ]
  },
  {
   "cell_type": "code",
   "execution_count": null,
   "metadata": {},
   "outputs": [],
   "source": []
  },
  {
   "cell_type": "markdown",
   "metadata": {},
   "source": [
    "- 9\n",
    "![](../Photo/65.png)"
   ]
  },
  {
   "cell_type": "code",
   "execution_count": 14,
   "metadata": {},
   "outputs": [
    {
     "name": "stdout",
     "output_type": "stream",
     "text": [
      "-2.0000300004500068e-05\n"
     ]
    }
   ],
   "source": [
    "for i in range(10000,100001,10000):\n",
    "    mi=(-1)**(i+1)\n",
    "    for j in range(1,2*i-1,2):\n",
    "        pin_=4*(mi/j)\n",
    "print(pin_)"
   ]
  },
  {
   "cell_type": "code",
   "execution_count": null,
   "metadata": {},
   "outputs": [],
   "source": []
  },
  {
   "cell_type": "markdown",
   "metadata": {},
   "source": [
    "- 10 \n",
    "![](../Photo/66.png)"
   ]
  },
  {
   "cell_type": "code",
   "execution_count": null,
   "metadata": {},
   "outputs": [],
   "source": [
    "for i in range(1,10000):\n",
    "    for n in range(1,i):\n",
    "        if i%n==0:\n",
    "            print(n,i/n)"
   ]
  },
  {
   "cell_type": "code",
   "execution_count": null,
   "metadata": {},
   "outputs": [],
   "source": []
  },
  {
   "cell_type": "code",
   "execution_count": null,
   "metadata": {},
   "outputs": [],
   "source": []
  },
  {
   "cell_type": "markdown",
   "metadata": {},
   "source": [
    "- 11\n",
    "![](../Photo/67.png)"
   ]
  },
  {
   "cell_type": "code",
   "execution_count": 43,
   "metadata": {},
   "outputs": [
    {
     "name": "stdout",
     "output_type": "stream",
     "text": [
      "1  2\n",
      "1  3\n",
      "1  4\n",
      "1  5\n",
      "1  6\n",
      "1  7\n",
      "2  1\n",
      "2  3\n",
      "2  4\n",
      "2  5\n",
      "2  6\n",
      "2  7\n",
      "3  1\n",
      "3  2\n",
      "3  4\n",
      "3  5\n",
      "3  6\n",
      "3  7\n",
      "4  1\n",
      "4  2\n",
      "4  3\n",
      "4  5\n",
      "4  6\n",
      "4  7\n",
      "5  1\n",
      "5  2\n",
      "5  3\n",
      "5  4\n",
      "5  6\n",
      "5  7\n",
      "6  1\n",
      "6  2\n",
      "6  3\n",
      "6  4\n",
      "6  5\n",
      "6  7\n",
      "7  1\n",
      "7  2\n",
      "7  3\n",
      "7  4\n",
      "7  5\n",
      "7  6\n",
      "总共有 42.0\n"
     ]
    }
   ],
   "source": [
    "n=0\n",
    "for i in range(1,8):\n",
    "    for j in range(1,8):\n",
    "        if i==j:\n",
    "            continue \n",
    "        elif (i//10==j%10) and (i%10==j//10):\n",
    "            continue\n",
    "        print(i,'',j)                            \n",
    "        n=n+(i+j)*(1/(i+j))\n",
    "print('总共有',n)\n",
    "        \n",
    "        "
   ]
  },
  {
   "cell_type": "code",
   "execution_count": null,
   "metadata": {},
   "outputs": [],
   "source": []
  },
  {
   "cell_type": "code",
   "execution_count": null,
   "metadata": {},
   "outputs": [],
   "source": []
  },
  {
   "cell_type": "markdown",
   "metadata": {},
   "source": [
    "- 12\n",
    "![](../Photo/68.png)"
   ]
  },
  {
   "cell_type": "code",
   "execution_count": 19,
   "metadata": {},
   "outputs": [
    {
     "name": "stdout",
     "output_type": "stream",
     "text": [
      "Enter ten number: 1\n",
      "2\n",
      "3\n",
      "5.5\n",
      "5.6\n",
      "6\n",
      "7\n",
      "8\n",
      "9\n",
      "10\n",
      "5.71\n",
      "2.9733819129065813\n"
     ]
    }
   ],
   "source": [
    "number1=eval(input('Enter ten number: '))\n",
    "number2=eval(input(''))\n",
    "number3=eval(input(''))\n",
    "number4=eval(input(''))\n",
    "number5=eval(input(''))\n",
    "number6=eval(input(''))\n",
    "number7=eval(input(''))\n",
    "number8=eval(input(''))\n",
    "number9=eval(input(''))\n",
    "number10=eval(input(''))\n",
    "mean=(number1+number2+number3+number4+number5+number6+number7+number8+number9+number10)/10\n",
    "agv=(((number1-mean)**2+(number2-mean)**2+(number3-mean)**2+(number4-mean)**2+\n",
    "(number5-mean)**2+(number6-mean)**2+(number7-mean)**2+(number8-mean)**2+\n",
    "     (number9-mean)**2+(number10-mean)**2)/(10-1))**0.5\n",
    "print(mean)\n",
    "print(agv)\n"
   ]
  },
  {
   "cell_type": "code",
   "execution_count": null,
   "metadata": {},
   "outputs": [],
   "source": []
  },
  {
   "cell_type": "code",
   "execution_count": null,
   "metadata": {},
   "outputs": [],
   "source": []
  },
  {
   "cell_type": "code",
   "execution_count": null,
   "metadata": {},
   "outputs": [],
   "source": []
  }
 ],
 "metadata": {
  "kernelspec": {
   "display_name": "Python 3",
   "language": "python",
   "name": "python3"
  },
  "language_info": {
   "codemirror_mode": {
    "name": "ipython",
    "version": 3
   },
   "file_extension": ".py",
   "mimetype": "text/x-python",
   "name": "python",
   "nbconvert_exporter": "python",
   "pygments_lexer": "ipython3",
   "version": "3.7.3"
  }
 },
 "nbformat": 4,
 "nbformat_minor": 2
}
