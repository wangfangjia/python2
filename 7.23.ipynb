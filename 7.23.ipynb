{
 "cells": [
  {
   "cell_type": "markdown",
   "metadata": {},
   "source": [
    "# 对象和类\n",
    "- 一个学生，一张桌子，一个圆都是对象\n",
    "- 对象是类的一个实例，你可以创建多个对象，创建类的一个实例过程被称为实例化，\n",
    "- 在Python中对象就是实例，而实例就是对象"
   ]
  },
  {
   "cell_type": "markdown",
   "metadata": {},
   "source": [
    "## 定义类\n",
    "class ClassName:\n",
    "\n",
    "    do something\n",
    "    \n",
    "- class 类的表示与def 一样\n",
    "- 类名最好使用驼峰式\n",
    "- 在Python2中类是需要继承基类object的，在Python中默认继承，可写可不写\n",
    "- 可以将普通代码理解为皮肤，而函数可以理解为内衣，那么类可以理解为外套"
   ]
  },
  {
   "cell_type": "code",
   "execution_count": 25,
   "metadata": {},
   "outputs": [],
   "source": [
    "#类必须初始化，是用self，初始化自身\n",
    "#类里面所有的函数中的第一个变量不再是参数，而是印记\n",
    "class joler:\n",
    "    def __init__(self):\n",
    "        print('我初始化了')"
   ]
  },
  {
   "cell_type": "code",
   "execution_count": 26,
   "metadata": {},
   "outputs": [
    {
     "name": "stdout",
     "output_type": "stream",
     "text": [
      "我初始化了\n"
     ]
    },
    {
     "data": {
      "text/plain": [
       "<__main__.joler at 0x1b4e2d0ea58>"
      ]
     },
     "execution_count": 26,
     "metadata": {},
     "output_type": "execute_result"
    }
   ],
   "source": [
    "joler()"
   ]
  },
  {
   "cell_type": "code",
   "execution_count": 27,
   "metadata": {},
   "outputs": [],
   "source": [
    "#类里面所有的函数中的第一个变量不再是参数，而是印记\n",
    "class joler:\n",
    "    def __init__(self):\n",
    "        print('我初始化了')\n",
    "    def print_(self):\n",
    "        print('joker hahaha')"
   ]
  },
  {
   "cell_type": "code",
   "execution_count": 28,
   "metadata": {},
   "outputs": [
    {
     "name": "stdout",
     "output_type": "stream",
     "text": [
      "我初始化了\n"
     ]
    }
   ],
   "source": [
    "huang=joler()#()代表直接走初始化函数"
   ]
  },
  {
   "cell_type": "code",
   "execution_count": 29,
   "metadata": {},
   "outputs": [
    {
     "name": "stdout",
     "output_type": "stream",
     "text": [
      "joker hahaha\n"
     ]
    }
   ],
   "source": [
    "huang.print_()"
   ]
  },
  {
   "cell_type": "code",
   "execution_count": 30,
   "metadata": {},
   "outputs": [],
   "source": [
    "class joler:\n",
    "    def __init__(self):\n",
    "        print('我初始化了')\n",
    "    def print_(self,name):\n",
    "        print('joker hahaha',name)"
   ]
  },
  {
   "cell_type": "code",
   "execution_count": 31,
   "metadata": {},
   "outputs": [
    {
     "name": "stdout",
     "output_type": "stream",
     "text": [
      "我初始化了\n"
     ]
    }
   ],
   "source": [
    "huang=joler()"
   ]
  },
  {
   "cell_type": "code",
   "execution_count": 32,
   "metadata": {},
   "outputs": [
    {
     "name": "stdout",
     "output_type": "stream",
     "text": [
      "joker hahaha fff\n"
     ]
    }
   ],
   "source": [
    "huang.print_(name='fff')"
   ]
  },
  {
   "cell_type": "code",
   "execution_count": 33,
   "metadata": {},
   "outputs": [],
   "source": [
    "class joler:\n",
    "    def __init__(self):\n",
    "        print('我初始化了')\n",
    "    def sum(self,num1,num2):\n",
    "        return num1+num2\n",
    "    def cheng(self,num1,num2):\n",
    "        return num1*num2"
   ]
  },
  {
   "cell_type": "code",
   "execution_count": 34,
   "metadata": {},
   "outputs": [
    {
     "name": "stdout",
     "output_type": "stream",
     "text": [
      "我初始化了\n"
     ]
    }
   ],
   "source": [
    "huang=joler()"
   ]
  },
  {
   "cell_type": "code",
   "execution_count": 35,
   "metadata": {},
   "outputs": [
    {
     "data": {
      "text/plain": [
       "3"
      ]
     },
     "execution_count": 35,
     "metadata": {},
     "output_type": "execute_result"
    }
   ],
   "source": [
    "huang.sum(num1=1,num2=2)"
   ]
  },
  {
   "cell_type": "code",
   "execution_count": 36,
   "metadata": {},
   "outputs": [
    {
     "data": {
      "text/plain": [
       "2"
      ]
     },
     "execution_count": 36,
     "metadata": {},
     "output_type": "execute_result"
    }
   ],
   "source": [
    "huang.cheng(num1=1,num2=2)"
   ]
  },
  {
   "cell_type": "code",
   "execution_count": 37,
   "metadata": {},
   "outputs": [],
   "source": [
    "#在类中，如果有参数需要多次使用，可以设其为共享参数\n",
    "class joler:\n",
    "    def __init__(self,num1,num2):\n",
    "        print('我初始化了')\n",
    "        #参数共享\n",
    "        self.num1=num1\n",
    "        self.num2=num2\n",
    "        print(self.num1,self.num2)\n",
    "    def sum(self):\n",
    "        return self.num1+self.num2\n",
    "    def cheng(self):\n",
    "        return self.num1*self.num2"
   ]
  },
  {
   "cell_type": "code",
   "execution_count": 38,
   "metadata": {},
   "outputs": [
    {
     "name": "stdout",
     "output_type": "stream",
     "text": [
      "我初始化了\n",
      "1 2\n"
     ]
    }
   ],
   "source": [
    "huang=joler(num1=1,num2=2)"
   ]
  },
  {
   "cell_type": "code",
   "execution_count": 39,
   "metadata": {},
   "outputs": [
    {
     "data": {
      "text/plain": [
       "3"
      ]
     },
     "execution_count": 39,
     "metadata": {},
     "output_type": "execute_result"
    }
   ],
   "source": [
    "huang.sum()"
   ]
  },
  {
   "cell_type": "code",
   "execution_count": 40,
   "metadata": {},
   "outputs": [
    {
     "data": {
      "text/plain": [
       "2"
      ]
     },
     "execution_count": 40,
     "metadata": {},
     "output_type": "execute_result"
    }
   ],
   "source": [
    "huang.cheng()"
   ]
  },
  {
   "cell_type": "code",
   "execution_count": 41,
   "metadata": {},
   "outputs": [],
   "source": [
    "class panduan:\n",
    "    def __init__(self):\n",
    "        print('我初始化了')\n",
    "    def jiou(self,num1):\n",
    "        if num1%2==0:\n",
    "            print('偶数')\n",
    "        else:\n",
    "            print('奇数')\n",
    "    def year(self,num2):\n",
    "        if (num2%400==0) or ((num2%4==0) and (num2%100!=0)):\n",
    "            print('闰年')\n",
    "        else:\n",
    "            print('平年')"
   ]
  },
  {
   "cell_type": "code",
   "execution_count": 42,
   "metadata": {},
   "outputs": [
    {
     "name": "stdout",
     "output_type": "stream",
     "text": [
      "我初始化了\n"
     ]
    }
   ],
   "source": [
    "h=panduan()"
   ]
  },
  {
   "cell_type": "code",
   "execution_count": 43,
   "metadata": {},
   "outputs": [
    {
     "name": "stdout",
     "output_type": "stream",
     "text": [
      "偶数\n"
     ]
    }
   ],
   "source": [
    "h.jiou(num1=2)"
   ]
  },
  {
   "cell_type": "code",
   "execution_count": 44,
   "metadata": {},
   "outputs": [
    {
     "name": "stdout",
     "output_type": "stream",
     "text": [
      "闰年\n"
     ]
    }
   ],
   "source": [
    "h.year(num2=2008)"
   ]
  },
  {
   "cell_type": "code",
   "execution_count": null,
   "metadata": {},
   "outputs": [],
   "source": []
  },
  {
   "cell_type": "markdown",
   "metadata": {},
   "source": [
    "## 定义一个不含初始化__init__的简单类\n",
    "class ClassName:\n",
    "\n",
    "    joker = “Home”\n",
    "    \n",
    "    def func():\n",
    "        print('Worker')\n",
    "    \n",
    "- 尽量少使用"
   ]
  },
  {
   "cell_type": "markdown",
   "metadata": {},
   "source": [
    "\n",
    "\n",
    "## 定义一个标准类\n",
    "- __init__ 代表初始化，可以初始化任何动作\n",
    "- 此时类调用要使用()，其中（）可以理解为开始初始化\n",
    "- 初始化内的元素，类中其他的函数可以共享\n",
    "![](../Photo/85.png)"
   ]
  },
  {
   "cell_type": "markdown",
   "metadata": {},
   "source": [
    "- Circle 和 className_ 的第一个区别有 __init__ 这个函数\n",
    "- 。。。。   第二个区别，类中的每一个函数都有self的这个“参数”"
   ]
  },
  {
   "cell_type": "markdown",
   "metadata": {},
   "source": [
    "## 何为self？\n",
    "- self 是指向对象本身的参数\n",
    "- self 只是一个命名规则，其实可以改变的，但是我们约定俗成的是self，也便于理解\n",
    "- 使用了self就可以访问类中定义的成员\n",
    "<img src=\"../Photo/86.png\"></img>"
   ]
  },
  {
   "cell_type": "markdown",
   "metadata": {},
   "source": [
    "## 使用类 Cirlcle"
   ]
  },
  {
   "cell_type": "markdown",
   "metadata": {},
   "source": [
    "## 类的传参\n",
    "- class ClassName:\n",
    "    \n",
    "        def __init__(self, para1,para2...)：\n",
    "            \n",
    "            self.para1 = para1\n",
    "            \n",
    "            self.para2 = para2"
   ]
  },
  {
   "cell_type": "markdown",
   "metadata": {},
   "source": [
    "## EP:\n",
    "- A：定义一个类，类中含有两个功能：\n",
    "    - 1、产生3个随机数，获取最大值\n",
    "    - 2、产生3个随机数，获取最小值\n",
    "- B：定义一个类，（类中函数的嵌套使用）\n",
    "    - 1、第一个函数的功能为：输入一个数字\n",
    "    - 2、第二个函数的功能为：使用第一个函数中得到的数字进行平方处理\n",
    "    - 3、第三个函数的功能为：得到平方处理后的数字 - 原来输入的数字，并打印结果"
   ]
  },
  {
   "cell_type": "code",
   "execution_count": 67,
   "metadata": {},
   "outputs": [],
   "source": [
    "import random\n",
    "class suiji:\n",
    "    def __init__(self):\n",
    "        print('初始化')\n",
    "    def max_(self):\n",
    "        num1=random.randint(1,9)\n",
    "        num2=random.randint(1,9)\n",
    "        num3=random.randint(1,9)\n",
    "        print(num1,num2,num3)\n",
    "        return max(num1,num2,num3)\n",
    "    def min_(self):\n",
    "        num1=random.randint(1,9)\n",
    "        num2=random.randint(1,9)\n",
    "        num3=random.randint(1,9)\n",
    "        print(num1,num2,num3)\n",
    "        return min(num1,num2,num3)"
   ]
  },
  {
   "cell_type": "code",
   "execution_count": 68,
   "metadata": {},
   "outputs": [
    {
     "name": "stdout",
     "output_type": "stream",
     "text": [
      "初始化\n"
     ]
    }
   ],
   "source": [
    "d=suiji()"
   ]
  },
  {
   "cell_type": "code",
   "execution_count": 69,
   "metadata": {},
   "outputs": [
    {
     "name": "stdout",
     "output_type": "stream",
     "text": [
      "1 2 7\n"
     ]
    },
    {
     "data": {
      "text/plain": [
       "7"
      ]
     },
     "execution_count": 69,
     "metadata": {},
     "output_type": "execute_result"
    }
   ],
   "source": [
    "d.max_()"
   ]
  },
  {
   "cell_type": "code",
   "execution_count": 70,
   "metadata": {},
   "outputs": [
    {
     "name": "stdout",
     "output_type": "stream",
     "text": [
      "9 7 5\n"
     ]
    },
    {
     "data": {
      "text/plain": [
       "5"
      ]
     },
     "execution_count": 70,
     "metadata": {},
     "output_type": "execute_result"
    }
   ],
   "source": [
    "d.min_()"
   ]
  },
  {
   "cell_type": "code",
   "execution_count": 7,
   "metadata": {},
   "outputs": [],
   "source": [
    "class tao:\n",
    "    def __init__(self):\n",
    "        pass\n",
    "    def fun1(self):\n",
    "        self.num=eval(input('输入一个数字'))\n",
    "        print(self.num)\n",
    "    def fun2(self):\n",
    "        self.c=self.num**2\n",
    "        print(self.c)\n",
    "    def fun3(self):\n",
    "        self.cha=self.c-self.num\n",
    "        print(self.cha)"
   ]
  },
  {
   "cell_type": "code",
   "execution_count": 8,
   "metadata": {},
   "outputs": [],
   "source": [
    "q=tao()"
   ]
  },
  {
   "cell_type": "code",
   "execution_count": 9,
   "metadata": {},
   "outputs": [
    {
     "name": "stdout",
     "output_type": "stream",
     "text": [
      "输入一个数字9\n",
      "9\n"
     ]
    }
   ],
   "source": [
    "q.fun1()"
   ]
  },
  {
   "cell_type": "code",
   "execution_count": 10,
   "metadata": {},
   "outputs": [
    {
     "name": "stdout",
     "output_type": "stream",
     "text": [
      "81\n"
     ]
    }
   ],
   "source": [
    "q.fun2()"
   ]
  },
  {
   "cell_type": "code",
   "execution_count": 12,
   "metadata": {},
   "outputs": [
    {
     "name": "stdout",
     "output_type": "stream",
     "text": [
      "72\n"
     ]
    }
   ],
   "source": [
    "q.fun3()"
   ]
  },
  {
   "cell_type": "code",
   "execution_count": 28,
   "metadata": {},
   "outputs": [],
   "source": [
    "class tao:\n",
    "    def __init__(self):\n",
    "        pass\n",
    "    def fun1(self):\n",
    "        num=eval(input('输入一个数字'))\n",
    "        print('输入的数字是：',num)\n",
    "        return num\n",
    "    def fun2(self):\n",
    "        num=self.fun1()\n",
    "        c=num**2\n",
    "        print('平方数是：',c)\n",
    "        return c,num\n",
    "    def fun3(self):\n",
    "        c,num=self.fun2()\n",
    "        cha=c-num\n",
    "        print('差是',cha)"
   ]
  },
  {
   "cell_type": "code",
   "execution_count": 25,
   "metadata": {},
   "outputs": [],
   "source": [
    "q=tao()"
   ]
  },
  {
   "cell_type": "code",
   "execution_count": 26,
   "metadata": {},
   "outputs": [
    {
     "name": "stdout",
     "output_type": "stream",
     "text": [
      "输入一个数字9\n",
      "输入的数字是： 9\n",
      "平方数是： 81\n"
     ]
    },
    {
     "data": {
      "text/plain": [
       "(81, 9)"
      ]
     },
     "execution_count": 26,
     "metadata": {},
     "output_type": "execute_result"
    }
   ],
   "source": [
    "q.fun2()"
   ]
  },
  {
   "cell_type": "code",
   "execution_count": 27,
   "metadata": {},
   "outputs": [
    {
     "name": "stdout",
     "output_type": "stream",
     "text": [
      "输入一个数字9\n",
      "输入的数字是： 9\n",
      "平方数是： 81\n",
      "差是 72\n"
     ]
    }
   ],
   "source": [
    "q.fun3()"
   ]
  },
  {
   "cell_type": "code",
   "execution_count": 29,
   "metadata": {},
   "outputs": [
    {
     "name": "stdout",
     "output_type": "stream",
     "text": [
      "输入一个数字9\n",
      "输入的数字是： 9\n",
      "平方数是： 81\n",
      "差是 72\n"
     ]
    }
   ],
   "source": [
    "q.fun3()"
   ]
  },
  {
   "cell_type": "code",
   "execution_count": 1,
   "metadata": {},
   "outputs": [],
   "source": [
    "#验证码\n",
    "class denglu:\n",
    "    def __init__(self):\n",
    "        self.account='123'\n",
    "        self.password='123'\n",
    "    def account_(self):\n",
    "        self.acc=input('请输入账号: ')\n",
    "    def password_(self):\n",
    "        self.passw=eval(input('请输入密码: '))\n",
    "    def check(self):\n",
    "        if self.acc==self.account and self.passw==self.password:\n",
    "            print('成功')\n",
    "        else:\n",
    "            print('失败')\n",
    "    def verify(self):\n",
    "        verify_var=123\n",
    "        while 1:\n",
    "            user_verify=eval(input('请输入验证马:>>'))\n",
    "            if user_verify==verify_var:\n",
    "                print('ga')\n",
    "                break\n",
    "    def start(self):\n",
    "        self.account_()\n",
    "        self.password_()\n",
    "        self.check()\n",
    "        self.verify() "
   ]
  },
  {
   "cell_type": "code",
   "execution_count": 2,
   "metadata": {},
   "outputs": [],
   "source": [
    "a=denglu()"
   ]
  },
  {
   "cell_type": "code",
   "execution_count": 3,
   "metadata": {},
   "outputs": [
    {
     "name": "stdout",
     "output_type": "stream",
     "text": [
      "请输入账号: 123\n",
      "请输入密码: 1234\n",
      "失败\n",
      "请输入验证马:>>123\n",
      "ga\n"
     ]
    }
   ],
   "source": [
    "a.start()"
   ]
  },
  {
   "cell_type": "code",
   "execution_count": null,
   "metadata": {},
   "outputs": [],
   "source": []
  },
  {
   "cell_type": "code",
   "execution_count": null,
   "metadata": {},
   "outputs": [],
   "source": []
  },
  {
   "cell_type": "markdown",
   "metadata": {},
   "source": [
    "## 类的继承\n",
    "- 类的单继承\n",
    "- 类的多继承\n",
    "- 继承标识\n",
    ">  class SonClass(FatherClass):\n",
    "            \n",
    "            def __init__(self):\n",
    "            \n",
    "                FatherClass.__init__(self)"
   ]
  },
  {
   "cell_type": "code",
   "execution_count": 33,
   "metadata": {},
   "outputs": [],
   "source": [
    "class a:\n",
    "    def __init__(self):\n",
    "        self.a='a'\n",
    "    def a_(self):\n",
    "        print('class a')\n",
    "class b(a):\n",
    "    def __init__(self):\n",
    "        #告诉a,b即将继承a\n",
    "        a.__init__(self)\n",
    "       # print(self.a)\n",
    "        #self.a_()\n",
    "    def b_(self):\n",
    "        print(self.a)\n",
    "        self.a_()"
   ]
  },
  {
   "cell_type": "code",
   "execution_count": 34,
   "metadata": {},
   "outputs": [],
   "source": [
    "bb=b()"
   ]
  },
  {
   "cell_type": "code",
   "execution_count": 35,
   "metadata": {},
   "outputs": [
    {
     "name": "stdout",
     "output_type": "stream",
     "text": [
      "class a\n"
     ]
    }
   ],
   "source": [
    "bb.a_()"
   ]
  },
  {
   "cell_type": "code",
   "execution_count": 36,
   "metadata": {},
   "outputs": [],
   "source": [
    "class a:\n",
    "    def __init__(self):\n",
    "        self.a='a'\n",
    "    def a_(self):\n",
    "        print('class a')\n",
    "class c:\n",
    "    def __init__(self):\n",
    "        self.c='c'\n",
    "    def a_(self):\n",
    "        print('class c')\n",
    "#多继承，前面覆盖后面\n",
    "class b(a,c):\n",
    "    def __init__(self):\n",
    "        #告诉a,b寂静继承人a\n",
    "        c.__init__(self)\n",
    "        a.__init__(self)\n",
    "    def b(self):\n",
    "        print(self.a)\n",
    "        self.a_()\n",
    "        "
   ]
  },
  {
   "cell_type": "code",
   "execution_count": 37,
   "metadata": {},
   "outputs": [],
   "source": [
    "bb=b()"
   ]
  },
  {
   "cell_type": "code",
   "execution_count": 38,
   "metadata": {},
   "outputs": [
    {
     "name": "stdout",
     "output_type": "stream",
     "text": [
      "class a\n"
     ]
    }
   ],
   "source": [
    "bb.a_()"
   ]
  },
  {
   "cell_type": "code",
   "execution_count": null,
   "metadata": {},
   "outputs": [],
   "source": []
  },
  {
   "cell_type": "markdown",
   "metadata": {},
   "source": [
    "## 私有数据域(私有变量，或者私有函数)\n",
    "- 在Python中 变量名或者函数名使用双下划线代表私有  \\__Joker,   def \\__Joker():\n",
    "- 私有数据域不可继承\n",
    "- 私有数据域强制继承   \\__dir__()"
   ]
  },
  {
   "cell_type": "code",
   "execution_count": null,
   "metadata": {},
   "outputs": [],
   "source": [
    "#私有变量不可继承，不可在外部调用，但内部可以"
   ]
  },
  {
   "cell_type": "code",
   "execution_count": 39,
   "metadata": {},
   "outputs": [],
   "source": [
    "def ccc():\n",
    "    print('ccc')\n",
    "class a:\n",
    "    def __init__(self):\n",
    "        self.a='a'\n",
    "        #静态调用\n",
    "    #&staticmethod\n",
    "    def a_(self):\n",
    "        print('class a')\n",
    "        ccc()"
   ]
  },
  {
   "cell_type": "code",
   "execution_count": 40,
   "metadata": {},
   "outputs": [],
   "source": [
    "aa=a()"
   ]
  },
  {
   "cell_type": "code",
   "execution_count": 41,
   "metadata": {},
   "outputs": [
    {
     "name": "stdout",
     "output_type": "stream",
     "text": [
      "class a\n",
      "ccc\n"
     ]
    }
   ],
   "source": [
    "aa.a_()"
   ]
  },
  {
   "cell_type": "code",
   "execution_count": 43,
   "metadata": {},
   "outputs": [],
   "source": [
    "class a:\n",
    "    def __init__(self):\n",
    "        self.__a_=1122\n",
    "    def a_(self):\n",
    "        m=self.__a_*9\n",
    "        print(m)"
   ]
  },
  {
   "cell_type": "code",
   "execution_count": 44,
   "metadata": {},
   "outputs": [],
   "source": [
    "u=a()"
   ]
  },
  {
   "cell_type": "code",
   "execution_count": 45,
   "metadata": {},
   "outputs": [
    {
     "name": "stdout",
     "output_type": "stream",
     "text": [
      "10098\n"
     ]
    }
   ],
   "source": [
    "u.a_()"
   ]
  },
  {
   "cell_type": "code",
   "execution_count": 84,
   "metadata": {},
   "outputs": [
    {
     "ename": "SyntaxError",
     "evalue": "keyword can't be an expression (<ipython-input-84-38086459f978>, line 5)",
     "output_type": "error",
     "traceback": [
      "\u001b[1;36m  File \u001b[1;32m\"<ipython-input-84-38086459f978>\"\u001b[1;36m, line \u001b[1;32m5\u001b[0m\n\u001b[1;33m    print(self.__a_=112)\u001b[0m\n\u001b[1;37m         ^\u001b[0m\n\u001b[1;31mSyntaxError\u001b[0m\u001b[1;31m:\u001b[0m keyword can't be an expression\n"
     ]
    }
   ],
   "source": [
    "class a:\n",
    "    def __init__(self):\n",
    "        self.__a_=1122\n",
    "    def a_(self):\n",
    "        print(self.__a_=112)"
   ]
  },
  {
   "cell_type": "code",
   "execution_count": 81,
   "metadata": {},
   "outputs": [],
   "source": [
    "u=a()"
   ]
  },
  {
   "cell_type": "code",
   "execution_count": 83,
   "metadata": {},
   "outputs": [
    {
     "name": "stdout",
     "output_type": "stream",
     "text": [
      "112\n"
     ]
    }
   ],
   "source": [
    "u.a_()"
   ]
  },
  {
   "cell_type": "code",
   "execution_count": null,
   "metadata": {},
   "outputs": [],
   "source": []
  },
  {
   "cell_type": "markdown",
   "metadata": {},
   "source": [
    "![](../Photo/87.png)"
   ]
  },
  {
   "cell_type": "markdown",
   "metadata": {},
   "source": [
    "## EP:\n",
    "![](../Photo/88.png)\n",
    "![](../Photo/89.png)\n",
    "![](../Photo/90.png)\n"
   ]
  },
  {
   "cell_type": "markdown",
   "metadata": {},
   "source": [
    "## 类的其他\n",
    "- 类的封装\n",
    "    - 实际上就是将一类功能放在一起，方便未来进行管理\n",
    "- 类的继承（上面已经讲过）\n",
    "- 类的多态\n",
    "    - 包括装饰器：将放在以后处理高级类中教\n",
    "    - 装饰器的好处：当许多类中的函数需要使用同一个功能的时候，那么使用装饰器就会方便许多\n",
    "    - 装饰器是有固定的写法\n",
    "        - 其包括普通装饰器与带参装饰器"
   ]
  },
  {
   "cell_type": "code",
   "execution_count": null,
   "metadata": {},
   "outputs": [],
   "source": []
  },
  {
   "cell_type": "markdown",
   "metadata": {},
   "source": [
    "# Homewor\n",
    "## UML类图可以不用画\n",
    "## UML 实际上就是一个思维图\n",
    "- 1\n",
    "![](../Photo/91.png)"
   ]
  },
  {
   "cell_type": "code",
   "execution_count": 74,
   "metadata": {},
   "outputs": [],
   "source": [
    "class rectangle1:\n",
    "    def __init__(self):\n",
    "        pass\n",
    "    def umi1(self):#建立第一个矩形\n",
    "        width1=4#宽赋值\n",
    "        heightd1=40#高赋值\n",
    "        print('宽为:',width1,'高为:',heightd1)#说明高和宽\n",
    "        print('第一个矩形面积为: ',width1*heightd1)#计算并打印面积\n",
    "        print('第二个矩形周长为: ',((width1*2)+(heightd1*2)))#计算并打印周长\n",
    "    def umi2(self):#建立第二个矩形\n",
    "        width2=3.5#宽赋值\n",
    "        heightd2=35.7#高赋值\n",
    "        print('宽为:',width2,'高为:',heightd2)#说明高和宽\n",
    "        print('第二个矩形面积为: ',width2*heightd2)#计算并打印面积\n",
    "        print('第二个矩形周长为: ',((width2*2)+(heightd2*2)))#计算并打印周长"
   ]
  },
  {
   "cell_type": "code",
   "execution_count": 75,
   "metadata": {},
   "outputs": [],
   "source": [
    "wang=rectangle1()"
   ]
  },
  {
   "cell_type": "code",
   "execution_count": 76,
   "metadata": {},
   "outputs": [
    {
     "name": "stdout",
     "output_type": "stream",
     "text": [
      "宽为: 4 高为: 40\n",
      "第一个矩形面积为:  160\n",
      "第二个矩形周长为:  88\n"
     ]
    }
   ],
   "source": [
    "wang.umi1()"
   ]
  },
  {
   "cell_type": "code",
   "execution_count": 77,
   "metadata": {},
   "outputs": [
    {
     "name": "stdout",
     "output_type": "stream",
     "text": [
      "宽为: 3.5 高为: 35.7\n",
      "第二个矩形面积为:  124.95000000000002\n",
      "第二个矩形周长为:  78.4\n"
     ]
    }
   ],
   "source": [
    "wang.umi2()"
   ]
  },
  {
   "cell_type": "code",
   "execution_count": null,
   "metadata": {},
   "outputs": [],
   "source": []
  },
  {
   "cell_type": "code",
   "execution_count": null,
   "metadata": {},
   "outputs": [],
   "source": []
  },
  {
   "cell_type": "markdown",
   "metadata": {},
   "source": [
    "- 2\n",
    "![](../Photo/92.png)"
   ]
  },
  {
   "cell_type": "code",
   "execution_count": 73,
   "metadata": {},
   "outputs": [],
   "source": [
    "class account1:\n",
    "    def __init__(self):\n",
    "        self.__id=int(1122)#赋值私有默认值\n",
    "        self.__balance=float(20000)#赋值私有默认值\n",
    "        self.__annuallnterestrate_=float(0.045)#赋值私有默认值\n",
    "    def id_(self):\n",
    "        self.id=eval(input('用户的id: ',))#用户输入id\n",
    "    def getmonthlyinterestrate(self):\n",
    "        m=float(self.__annuallnterestrate_/12)#已知年利率，计算月利率\n",
    "        print('月利率为: ',m)\n",
    "    def getmonthlyinterest(self):\n",
    "        n=self.__balance*float(self.__annuallnterestrate_/12)#已知年利率，本金，计算月利息\n",
    "        print('月利息为: ',n)\n",
    "    def withdraw(self):\n",
    "        self.wd=eval(input('请输入要取出的金额: '))\n",
    "    def deposit(self):\n",
    "        self.de=eval(input('请输入存入的金额'))\n",
    "    def balance(self):\n",
    "        ba=float(self.__balance-self.wd+self.de)##已知年利率，本金，取出和存储的金额，计算余额\n",
    "        print('余额为: ',ba)\n",
    "    def start(self):\n",
    "        self.id_()\n",
    "        self.getmonthlyinterestrate()\n",
    "        self.getmonthlyinterest()\n",
    "        self.withdraw()\n",
    "        self.deposit()\n",
    "        self.balance()"
   ]
  },
  {
   "cell_type": "code",
   "execution_count": 74,
   "metadata": {},
   "outputs": [],
   "source": [
    "d=account1()"
   ]
  },
  {
   "cell_type": "code",
   "execution_count": 75,
   "metadata": {},
   "outputs": [
    {
     "name": "stdout",
     "output_type": "stream",
     "text": [
      "用户的id: 1122\n",
      "月利率为:  0.00375\n",
      "月利息为:  75.0\n",
      "请输入要取出的金额: 2500\n",
      "请输入存入的金额3000\n",
      "余额为:  20500.0\n"
     ]
    }
   ],
   "source": [
    "d.start()"
   ]
  },
  {
   "cell_type": "code",
   "execution_count": null,
   "metadata": {},
   "outputs": [],
   "source": []
  },
  {
   "cell_type": "markdown",
   "metadata": {},
   "source": [
    "- 3\n",
    "![](../Photo/93.png)"
   ]
  },
  {
   "cell_type": "code",
   "execution_count": 99,
   "metadata": {},
   "outputs": [],
   "source": [
    "class fan:\n",
    "    def __init__(self):\n",
    "        self.__speed=int(1)#赋值私有默认值\n",
    "        self.__on='False'#赋值私有默认值\n",
    "        self.__radius=float(5)#赋值私有默认值\n",
    "        self.__color=str('blue')#赋值私有默认值\n",
    "    def feng1(self):#第一个风扇\n",
    "        self.__speed1=int(3)    #赋值风扇速度\n",
    "        self.__radius1=float(10)#赋值浮点型风扇半径\n",
    "        self.__on1='open'          #赋值开关\n",
    "        self.__color1=str('yellow')#赋值颜色（字符型）\n",
    "        print('速度: ',self.__speed1)\n",
    "        print('半径: ',self.__radius1)\n",
    "        print('状态: ',self.__on1)\n",
    "        print('颜色: ',self.__color1)\n",
    "    def feng2(self):\n",
    "        self.__speed2=int(2)#赋值风扇速度\n",
    "        print('速度: ',self.__speed2)#默认值，不用重新赋值\n",
    "        print('半径: ',self.__radius)#默认值，不用重新赋值\n",
    "        print('状态: ',self.__on)#默认值，不用重新赋值\n",
    "        print('颜色: ',self.__color)#默认值，不用重新赋值\n",
    "        "
   ]
  },
  {
   "cell_type": "code",
   "execution_count": 100,
   "metadata": {},
   "outputs": [],
   "source": [
    "fen=fan()"
   ]
  },
  {
   "cell_type": "code",
   "execution_count": 101,
   "metadata": {},
   "outputs": [
    {
     "name": "stdout",
     "output_type": "stream",
     "text": [
      "速度:  3\n",
      "半径:  10.0\n",
      "状态:  open\n",
      "颜色:  yellow\n"
     ]
    }
   ],
   "source": [
    "fen.feng1()"
   ]
  },
  {
   "cell_type": "code",
   "execution_count": 102,
   "metadata": {},
   "outputs": [
    {
     "name": "stdout",
     "output_type": "stream",
     "text": [
      "速度:  2\n",
      "半径:  5.0\n",
      "状态:  False\n",
      "颜色:  blue\n"
     ]
    }
   ],
   "source": [
    "fen.feng2()"
   ]
  },
  {
   "cell_type": "code",
   "execution_count": null,
   "metadata": {},
   "outputs": [],
   "source": []
  },
  {
   "cell_type": "markdown",
   "metadata": {},
   "source": [
    "- 4\n",
    "![](../Photo/94.png)\n",
    "![](../Photo/95.png)"
   ]
  },
  {
   "cell_type": "code",
   "execution_count": null,
   "metadata": {},
   "outputs": [],
   "source": [
    "import math\n",
    "class regularpolygon:\n",
    "    def __init__(self):\n",
    "        self.__n=int(3)\n",
    "        self.__side=float(1)\n",
    "        self.__x=float(0)\n",
    "        self.__y=float(0)\n",
    "    def reun1(self):\n",
    "        getperimeter1=self.__n*self.__side\n",
    "        getarea1=(self.__n*(self.__side**2))/(4*math.tan(math.pin/self.__n))\n",
    "        print('周长为: ',getperimeter1)\n",
    "        print('面积为: ',getarea1)\n",
    "    def reun2(self):\n",
    "        self.__n2=int(6)\n",
    "        self.__side2=float(4)\n",
    "        getperimeter2=self.__n2*self.__side2\n",
    "        getarea2=(self.__n2*(self.__side2**2))/(4*math.tan(math.pin/self.__n2))\n",
    "        print('周长为: ',getperimeter2)\n",
    "        print('面积为: ',getarea2)\n",
    "    def reun3(self):\n",
    "        self.__n3=int(10)\n",
    "        self.__side3=float(4)\n",
    "        self.__x3=float(5.6)\n",
    "        self.__y3=float(7.8)\n",
    "        getperimeter2=self.__n2*self.__side2\n",
    "        getarea2=(self.__n2*(self.__side2**2))/(4*math.tan(math.pin/self.__n2))"
   ]
  },
  {
   "cell_type": "code",
   "execution_count": null,
   "metadata": {},
   "outputs": [],
   "source": []
  },
  {
   "cell_type": "code",
   "execution_count": null,
   "metadata": {},
   "outputs": [],
   "source": []
  },
  {
   "cell_type": "code",
   "execution_count": null,
   "metadata": {},
   "outputs": [],
   "source": []
  },
  {
   "cell_type": "markdown",
   "metadata": {},
   "source": [
    "- 5\n",
    "![](../Photo/96.png)"
   ]
  },
  {
   "cell_type": "code",
   "execution_count": 116,
   "metadata": {},
   "outputs": [],
   "source": [
    "class linearequation:\n",
    "    def __init__(self):\n",
    "        print('方程形式为：ax+by=e')#前提：方程的形式\n",
    "        print('            cx+dy=f')#前提：方程的形式\n",
    "    def bian(self):\n",
    "        a=eval(input('请输入a: '))#输入值\n",
    "        b=eval(input('请输入b: '))#输入值\n",
    "        c=eval(input('请输入c: '))#输入值\n",
    "        d=eval(input('请输入d: '))#输入值\n",
    "        e=eval(input('请输入e: '))#输入值\n",
    "        f=eval(input('请输入f: '))#输入值\n",
    "        x=(d*e-b*f)/(a*d-b*c)#将输入的值代入\n",
    "        y=(a*f-e*c)/(a*d-b*c)#将输入的值代入\n",
    "        if a*d-b*c==0:       #如果无解的条件\n",
    "            print('无解')    #打印无解\n",
    "        else:\n",
    "            print('解为: ','x=',x,'y=',y)#否则输出解的值"
   ]
  },
  {
   "cell_type": "code",
   "execution_count": 117,
   "metadata": {},
   "outputs": [
    {
     "name": "stdout",
     "output_type": "stream",
     "text": [
      "方程形式为：ax+by=e\n",
      "            cx+dy=f\n"
     ]
    }
   ],
   "source": [
    "fang=linearequation()"
   ]
  },
  {
   "cell_type": "code",
   "execution_count": 118,
   "metadata": {},
   "outputs": [
    {
     "name": "stdout",
     "output_type": "stream",
     "text": [
      "请输入a: 1\n",
      "请输入b: 2\n",
      "请输入c: 3\n",
      "请输入d: 1\n",
      "请输入e: 2\n",
      "请输入f: 3\n",
      "解为:  x= 0.8 y= 0.6\n"
     ]
    }
   ],
   "source": [
    "fang.bian()"
   ]
  },
  {
   "cell_type": "code",
   "execution_count": null,
   "metadata": {},
   "outputs": [],
   "source": []
  },
  {
   "cell_type": "markdown",
   "metadata": {},
   "source": [
    "- 6\n",
    "![](../Photo/97.png)"
   ]
  },
  {
   "cell_type": "code",
   "execution_count": 19,
   "metadata": {},
   "outputs": [],
   "source": [
    "class linearequation:\n",
    "    def __init__(self):\n",
    "        pass\n",
    "    def L1(self):\n",
    "        x1,y1,x2,y2=eval(input('请输入两个端点: '))\n",
    "        self.k1=(y2-y1)/(x2-x1)#第一条直线的斜率\n",
    "        self.b1=((y1+y2)-self.k1*(x1+x2))/2#第一条直线的截距\n",
    "        print('第一条线段y=',self.k1,'x+',self.b1)#构造第一条直线\n",
    "    def L2(self):\n",
    "        x3,y3,x4,y4=eval(input('请输入两个端点: '))\n",
    "        self.k2=(y4-y3)/(x4-x3)#第二条直线的斜率\n",
    "        self.b2=((y4+y3)-self.k2*(x3+x4))/2#第二条直线的截距\n",
    "        print('第二条线段y=',self.k2,'x+',self.b2)#构造第二条直线\n",
    "    def jia(self):\n",
    "        xx=(self.b2-self.b1)/(self.k1-self.k2)#联立方程，得交点横坐标\n",
    "        yy=self.k1*xx+self.b1#在知道横坐标后，带入第一条直线方程，求得纵坐标\n",
    "        print('交点为: ',(xx,yy))\n",
    "    def start(self):\n",
    "        self.L1()\n",
    "        self.L2()\n",
    "        self.jia()"
   ]
  },
  {
   "cell_type": "code",
   "execution_count": 20,
   "metadata": {},
   "outputs": [],
   "source": [
    "jiao=linearequation()"
   ]
  },
  {
   "cell_type": "code",
   "execution_count": 21,
   "metadata": {},
   "outputs": [
    {
     "name": "stdout",
     "output_type": "stream",
     "text": [
      "请输入两个端点: 2,2,0,0\n",
      "第一条线段y= 1.0 x+ 0.0\n",
      "请输入两个端点: 0,2,2,0\n",
      "第二条线段y= -1.0 x+ 2.0\n",
      "交点为:  (1.0, 1.0)\n"
     ]
    }
   ],
   "source": [
    "jiao.start()"
   ]
  },
  {
   "cell_type": "code",
   "execution_count": null,
   "metadata": {},
   "outputs": [],
   "source": []
  },
  {
   "cell_type": "markdown",
   "metadata": {},
   "source": [
    "- 7\n",
    "![](../Photo/98.png)"
   ]
  },
  {
   "cell_type": "code",
   "execution_count": null,
   "metadata": {},
   "outputs": [],
   "source": []
  }
 ],
 "metadata": {
  "kernelspec": {
   "display_name": "Python 3",
   "language": "python",
   "name": "python3"
  },
  "language_info": {
   "codemirror_mode": {
    "name": "ipython",
    "version": 3
   },
   "file_extension": ".py",
   "mimetype": "text/x-python",
   "name": "python",
   "nbconvert_exporter": "python",
   "pygments_lexer": "ipython3",
   "version": "3.7.3"
  }
 },
 "nbformat": 4,
 "nbformat_minor": 2
}
