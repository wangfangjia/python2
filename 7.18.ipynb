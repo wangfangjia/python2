{
 "cells": [
  {
   "cell_type": "markdown",
   "metadata": {},
   "source": [
    "# 选择\n",
    "## 布尔类型、数值和表达式\n",
    "![](../Photo/33.png)\n",
    "- 注意：比较运算符的相等是两个等号，一个等到代表赋值\n",
    "- 在Python中可以用整型0来代表False，其他数字来代表True\n",
    "- 后面还会讲到 is 在判断语句中的用发"
   ]
  },
  {
   "cell_type": "code",
   "execution_count": 1,
   "metadata": {},
   "outputs": [
    {
     "data": {
      "text/plain": [
       "True"
      ]
     },
     "execution_count": 1,
     "metadata": {},
     "output_type": "execute_result"
    }
   ],
   "source": [
    "a=1\n",
    "b=1.0\n",
    "a==b"
   ]
  },
  {
   "cell_type": "code",
   "execution_count": 2,
   "metadata": {},
   "outputs": [
    {
     "data": {
      "text/plain": [
       "False"
      ]
     },
     "execution_count": 2,
     "metadata": {},
     "output_type": "execute_result"
    }
   ],
   "source": [
    "a='1'\n",
    "b='2'\n",
    "a==b"
   ]
  },
  {
   "cell_type": "code",
   "execution_count": 3,
   "metadata": {},
   "outputs": [
    {
     "data": {
      "text/plain": [
       "False"
      ]
     },
     "execution_count": 3,
     "metadata": {},
     "output_type": "execute_result"
    }
   ],
   "source": [
    "0 is 1"
   ]
  },
  {
   "cell_type": "code",
   "execution_count": null,
   "metadata": {},
   "outputs": [],
   "source": []
  },
  {
   "cell_type": "markdown",
   "metadata": {},
   "source": [
    "## 字符串的比较使用ASCII值"
   ]
  },
  {
   "cell_type": "code",
   "execution_count": 10,
   "metadata": {},
   "outputs": [
    {
     "data": {
      "text/plain": [
       "True"
      ]
     },
     "execution_count": 10,
     "metadata": {},
     "output_type": "execute_result"
    }
   ],
   "source": [
    "a='Joker'\n",
    "b='Jahah'\n",
    "a>b"
   ]
  },
  {
   "cell_type": "code",
   "execution_count": null,
   "metadata": {},
   "outputs": [],
   "source": []
  },
  {
   "cell_type": "markdown",
   "metadata": {},
   "source": [
    "## Markdown \n",
    "- https://github.com/younghz/Markdown"
   ]
  },
  {
   "cell_type": "code",
   "execution_count": null,
   "metadata": {},
   "outputs": [],
   "source": []
  },
  {
   "cell_type": "markdown",
   "metadata": {},
   "source": [
    "## EP:\n",
    "- <img src=\"../Photo/34.png\"></img>\n",
    "- 输入一个数字，判断其实奇数还是偶数"
   ]
  },
  {
   "cell_type": "code",
   "execution_count": 12,
   "metadata": {},
   "outputs": [
    {
     "data": {
      "text/plain": [
       "1"
      ]
     },
     "execution_count": 12,
     "metadata": {},
     "output_type": "execute_result"
    }
   ],
   "source": [
    "int(True)"
   ]
  },
  {
   "cell_type": "code",
   "execution_count": 13,
   "metadata": {},
   "outputs": [
    {
     "data": {
      "text/plain": [
       "0"
      ]
     },
     "execution_count": 13,
     "metadata": {},
     "output_type": "execute_result"
    }
   ],
   "source": [
    "int(False)"
   ]
  },
  {
   "cell_type": "code",
   "execution_count": 14,
   "metadata": {},
   "outputs": [
    {
     "data": {
      "text/plain": [
       "True"
      ]
     },
     "execution_count": 14,
     "metadata": {},
     "output_type": "execute_result"
    }
   ],
   "source": [
    "bool(4)"
   ]
  },
  {
   "cell_type": "code",
   "execution_count": 26,
   "metadata": {},
   "outputs": [
    {
     "name": "stdout",
     "output_type": "stream",
     "text": [
      "请输入一个数字5\n",
      "奇数\n"
     ]
    }
   ],
   "source": [
    "a = eval(input('请输入一个数字'))\n",
    "if  bool(a%2):\n",
    "    print('奇数')\n",
    "else:\n",
    "    print('偶数')"
   ]
  },
  {
   "cell_type": "code",
   "execution_count": null,
   "metadata": {},
   "outputs": [],
   "source": []
  },
  {
   "cell_type": "markdown",
   "metadata": {},
   "source": [
    "## 产生随机数字\n",
    "- 函数random.randint(a,b) 可以用来产生一个a和b之间且包括a和b的随机整数"
   ]
  },
  {
   "cell_type": "code",
   "execution_count": 2,
   "metadata": {},
   "outputs": [],
   "source": [
    "import random"
   ]
  },
  {
   "cell_type": "code",
   "execution_count": 30,
   "metadata": {},
   "outputs": [
    {
     "data": {
      "text/plain": [
       "2"
      ]
     },
     "execution_count": 30,
     "metadata": {},
     "output_type": "execute_result"
    }
   ],
   "source": [
    "random.randint(2,3)"
   ]
  },
  {
   "cell_type": "code",
   "execution_count": null,
   "metadata": {},
   "outputs": [],
   "source": []
  },
  {
   "cell_type": "markdown",
   "metadata": {},
   "source": [
    "产生一个随机数，你去输入，如果你输入的数大于随机数，那么就告诉你太大了，反之，太小了，\n",
    "然后你一直输入，知道它满意为止"
   ]
  },
  {
   "cell_type": "code",
   "execution_count": null,
   "metadata": {},
   "outputs": [],
   "source": [
    "while 5:\n",
    "    r = random.randint(3,7)\n",
    "    print('随机数为：',r)\n",
    "    n = eval(input('请输入一个数字： '))\n",
    "    if n>r:\n",
    "         print('太大了')\n",
    "    if n<r:\n",
    "         print('太小了')\n",
    "    if n==r:\n",
    "         print('正好')\n",
    "    break"
   ]
  },
  {
   "cell_type": "code",
   "execution_count": null,
   "metadata": {},
   "outputs": [],
   "source": []
  },
  {
   "cell_type": "code",
   "execution_count": null,
   "metadata": {},
   "outputs": [],
   "source": []
  },
  {
   "cell_type": "markdown",
   "metadata": {},
   "source": [
    "##  其他random方法\n",
    "- random.random 返回0.0到1.0之间前闭后开区间的随机浮点\n",
    "- random.randrange(a,b) 前闭后开"
   ]
  },
  {
   "cell_type": "code",
   "execution_count": 49,
   "metadata": {},
   "outputs": [
    {
     "data": {
      "text/plain": [
       "5"
      ]
     },
     "execution_count": 49,
     "metadata": {},
     "output_type": "execute_result"
    }
   ],
   "source": [
    "random.randrange(5,8)"
   ]
  },
  {
   "cell_type": "markdown",
   "metadata": {},
   "source": [
    "## EP：\n",
    "- 产生两个随机整数number1和number2，然后显示给用户，使用户输入数字的和，并判定其是否正确\n",
    "- 进阶:写一个随机序号点名程序"
   ]
  },
  {
   "cell_type": "code",
   "execution_count": null,
   "metadata": {},
   "outputs": [],
   "source": []
  },
  {
   "cell_type": "code",
   "execution_count": 3,
   "metadata": {},
   "outputs": [
    {
     "name": "stdout",
     "output_type": "stream",
     "text": [
      "1 6\n"
     ]
    }
   ],
   "source": [
    "a=random.randint(1,7)\n",
    "b=random.randint(1,7)\n",
    "print(a,b)"
   ]
  },
  {
   "cell_type": "code",
   "execution_count": 7,
   "metadata": {},
   "outputs": [
    {
     "name": "stdout",
     "output_type": "stream",
     "text": [
      "请输入数字的和5\n",
      "错误\n",
      "请输入数字的和6\n",
      "错误\n",
      "请输入数字的和7\n",
      "正确\n"
     ]
    }
   ],
   "source": [
    "for i  in range(5):\n",
    "    n=eval(input('请输入数字的和'))\n",
    "    if n==a+b:\n",
    "        print('正确')\n",
    "        break\n",
    "    else:\n",
    "        print('错误')"
   ]
  },
  {
   "cell_type": "code",
   "execution_count": 13,
   "metadata": {},
   "outputs": [
    {
     "name": "stdout",
     "output_type": "stream",
     "text": [
      "x7\n",
      "没有可以整除的\n",
      "没有可以整除的\n",
      "没有可以整除的\n",
      "没有可以整除的\n",
      "没有可以整除的\n"
     ]
    }
   ],
   "source": [
    "x=eval(input('x'))\n",
    "\n",
    "for i in range(2,x):\n",
    "    if x%i==0:\n",
    "        print(i,'可以整除')\n",
    "    else:\n",
    "        print('没有可以整除的')"
   ]
  },
  {
   "cell_type": "code",
   "execution_count": null,
   "metadata": {},
   "outputs": [],
   "source": []
  },
  {
   "cell_type": "code",
   "execution_count": null,
   "metadata": {},
   "outputs": [],
   "source": []
  },
  {
   "cell_type": "markdown",
   "metadata": {},
   "source": [
    "## if语句\n",
    "- 如果条件正确就执行一个单向if语句，亦即当条件为真的时候才执行if内部的语句\n",
    "- Python有很多选择语句:\n",
    "> - 单向if \n",
    "  - 双向if-else\n",
    "  - 嵌套if\n",
    "  - 多向if-elif-else\n",
    "  \n",
    "- 注意：当语句含有子语句的时候，那么一定至少要有一个缩进，也就是说如果有儿子存在，那么一定要缩进\n",
    "- 切记不可tab键和space混用，单用tab 或者 space\n",
    "- 当你输出的结果是无论if是否为真时都需要显示时，语句应该与if对齐"
   ]
  },
  {
   "cell_type": "code",
   "execution_count": 1,
   "metadata": {},
   "outputs": [
    {
     "name": "stdout",
     "output_type": "stream",
     "text": [
      "是否有钱[y/n]y\n",
      "再问一个问题\n",
      "帅不帅[y/n]y\n",
      "非常关键的一个问题\n",
      "是否有妻子[y/n]y\n",
      "不拒绝\n"
     ]
    }
   ],
   "source": [
    "money = input(\"是否有钱[y/n]\")\n",
    "if money == \"y\":\n",
    "    print(\"再问一个问题\")\n",
    "    handsome = input(\"帅不帅[y/n]\")\n",
    "    if handsome == \"y\":\n",
    "        print(\"非常关键的一个问题\")\n",
    "        wife = input(\"是否有妻子[y/n]\")\n",
    "        if wife == \"y\":\n",
    "            print(\"不拒绝\")\n",
    "        else:\n",
    "            print(\"马上结婚\")\n",
    "    else:\n",
    "        print(\"考虑一下\")\n",
    "else:\n",
    "    print(\"Gun~\")"
   ]
  },
  {
   "cell_type": "code",
   "execution_count": 4,
   "metadata": {},
   "outputs": [
    {
     "name": "stdout",
     "output_type": "stream",
     "text": [
      "A\n"
     ]
    }
   ],
   "source": [
    "score = 90\n",
    "if score >= 90:\n",
    "    grad = \"A\"\n",
    "elif score >= 80:\n",
    "    grad = \"B\"\n",
    "elif score >= 70:\n",
    "    grad = \"D\"\n",
    "    \n",
    "print(grad)"
   ]
  },
  {
   "cell_type": "code",
   "execution_count": 5,
   "metadata": {},
   "outputs": [
    {
     "name": "stdout",
     "output_type": "stream",
     "text": [
      "钱?[0/1]1\n",
      "帅?[0/1]1\n",
      "老婆?[0/1]0\n",
      "马上结婚\n"
     ]
    }
   ],
   "source": [
    "x1=eval(input('钱?[0/1]'))\n",
    "x2=eval(input('帅?[0/1]'))\n",
    "x3=eval(input('老婆?[0/1]'))\n",
    "x=x1+x2+x3\n",
    "if x==0:\n",
    "    print('滚')\n",
    "if x==2:\n",
    "    if x3==0:\n",
    "        print('马上结婚')\n",
    "    elif x2==0:\n",
    "        print('考虑一下')\n",
    "    elif x1==0:\n",
    "        print('滚')\n",
    "elif x==3:\n",
    "    print('有老婆也要考虑嘻嘻')\n",
    "\n"
   ]
  },
  {
   "cell_type": "code",
   "execution_count": null,
   "metadata": {},
   "outputs": [],
   "source": [
    "x1=eval(input('钱?[0/1]'))\n",
    "if x1==1:\n",
    "    x2=eval(input('帅?[0/1]'))\n",
    "    if x2==1:\n",
    "        x3=eval(input('老婆?[0/1]'))\n",
    "        if x3==1:\n",
    "            print('原配变小三')\n",
    "            "
   ]
  },
  {
   "cell_type": "code",
   "execution_count": null,
   "metadata": {},
   "outputs": [],
   "source": []
  },
  {
   "cell_type": "code",
   "execution_count": null,
   "metadata": {},
   "outputs": [],
   "source": []
  },
  {
   "cell_type": "markdown",
   "metadata": {},
   "source": [
    "# EP：\n",
    "- 用户输入一个数字，判断其实奇数还是偶数\n",
    "- 进阶：可以查看下4.5实例研究猜生日"
   ]
  },
  {
   "cell_type": "markdown",
   "metadata": {},
   "source": [
    "## 双向if-else 语句\n",
    "- 如果条件为真，那么走if内部语句，否则走else内部语句"
   ]
  },
  {
   "cell_type": "markdown",
   "metadata": {},
   "source": [
    "## EP：\n",
    "- 产生两个随机整数number1和number2，然后显示给用户，使用户输入数字，并判定其是否正确,如果正确打印“you‘re correct”，否则打印正确错误"
   ]
  },
  {
   "cell_type": "markdown",
   "metadata": {},
   "source": [
    "## 嵌套if 和多向if-elif-else\n",
    "![](../Photo/35.png)"
   ]
  },
  {
   "cell_type": "code",
   "execution_count": null,
   "metadata": {},
   "outputs": [],
   "source": [
    "year=eval(input('请输入你的年份'))\n"
   ]
  },
  {
   "cell_type": "code",
   "execution_count": null,
   "metadata": {},
   "outputs": [],
   "source": []
  },
  {
   "cell_type": "markdown",
   "metadata": {},
   "source": [
    "## EP：\n",
    "- 提示用户输入一个年份，然后显示表示这一年的动物\n",
    "![](../Photo/36.png)\n",
    "- 计算身体质量指数的程序\n",
    "- BMI = 以千克为单位的体重除以以米为单位的身高的平方\n",
    "![](../Photo/37.png)"
   ]
  },
  {
   "cell_type": "code",
   "execution_count": 6,
   "metadata": {},
   "outputs": [
    {
     "name": "stdout",
     "output_type": "stream",
     "text": [
      "身高155\n",
      "体重101\n",
      "超清\n"
     ]
    }
   ],
   "source": [
    "身高=eval(input('身高'))\n",
    "体重=eval(input('体重'))\n",
    "BMI=体重/身高**2\n",
    "if BMI<18.5:\n",
    "    print('超清')\n",
    "elif 18.5<=BMI<25:\n",
    "    print('标准')\n",
    "elif 25<=BMI<30:\n",
    "    print('超重')\n",
    "else:\n",
    "    print('超级胖')\n"
   ]
  },
  {
   "cell_type": "code",
   "execution_count": null,
   "metadata": {},
   "outputs": [],
   "source": []
  },
  {
   "cell_type": "markdown",
   "metadata": {},
   "source": [
    "## 逻辑运算符\n",
    "![](../Photo/38.png)"
   ]
  },
  {
   "cell_type": "markdown",
   "metadata": {},
   "source": [
    "![](../Photo/39.png)\n",
    "![](../Photo/40.png)"
   ]
  },
  {
   "cell_type": "code",
   "execution_count": null,
   "metadata": {},
   "outputs": [],
   "source": []
  },
  {
   "cell_type": "markdown",
   "metadata": {},
   "source": [
    "## EP：\n",
    "- 判定闰年：一个年份如果能被4整除但不能被100整除，或者能被400整除，那么这个年份就是闰年\n",
    "- 提示用户输入一个年份，并返回是否是闰年\n",
    "- 提示用户输入一个数字，判断其是否为水仙花数"
   ]
  },
  {
   "cell_type": "code",
   "execution_count": 5,
   "metadata": {},
   "outputs": [
    {
     "name": "stdout",
     "output_type": "stream",
     "text": [
      "请输入一个年份2019\n",
      "平年\n"
     ]
    }
   ],
   "source": [
    "n=eval(input('请输入一个年份'))\n",
    "if (n%4==0 and n%100!=0) or (n%400==0):\n",
    "    print('闰年')\n",
    "else:\n",
    "    print('平年')"
   ]
  },
  {
   "cell_type": "code",
   "execution_count": 2,
   "metadata": {},
   "outputs": [
    {
     "name": "stdout",
     "output_type": "stream",
     "text": [
      "数字153\n",
      "水仙花\n"
     ]
    }
   ],
   "source": [
    "number = eval(input('数字'))\n",
    "bai = number//100\n",
    "shi = number//10%10\n",
    "ge = number%10\n",
    "\n",
    "if bai **3 + shi **3 +ge **3==number:\n",
    "    print('水仙花')"
   ]
  },
  {
   "cell_type": "code",
   "execution_count": 6,
   "metadata": {},
   "outputs": [
    {
     "name": "stdout",
     "output_type": "stream",
     "text": [
      "153 水仙花\n",
      "370 水仙花\n",
      "371 水仙花\n",
      "407 水仙花\n"
     ]
    }
   ],
   "source": [
    "for number in range(100,1000):\n",
    "    bai = number//100\n",
    "    shi = number//10%10\n",
    "    ge = number%10\n",
    "    if bai**3+shi**3+ge**3==number:\n",
    "        print(number,'水仙花')"
   ]
  },
  {
   "cell_type": "code",
   "execution_count": null,
   "metadata": {},
   "outputs": [],
   "source": []
  },
  {
   "cell_type": "code",
   "execution_count": null,
   "metadata": {},
   "outputs": [],
   "source": []
  },
  {
   "cell_type": "markdown",
   "metadata": {},
   "source": [
    "## 实例研究：彩票\n",
    "![](../Photo/41.png)"
   ]
  },
  {
   "cell_type": "code",
   "execution_count": 6,
   "metadata": {},
   "outputs": [],
   "source": [
    "import random"
   ]
  },
  {
   "cell_type": "code",
   "execution_count": 12,
   "metadata": {},
   "outputs": [
    {
     "name": "stdout",
     "output_type": "stream",
     "text": [
      "77\n",
      "请输入一个两位数76\n",
      "奖金为1000元\n"
     ]
    }
   ],
   "source": [
    "m=random.randrange(50,100)\n",
    "print(m)\n",
    "hu=eval(input('请输入一个两位数'))\n",
    "jk1=m//10%10\n",
    "jl1=m%10\n",
    "jk2=hu//10%10\n",
    "jl2=hu%10\n",
    "if hu==m:\n",
    "    print('奖金为10000元')\n",
    "if (jk1==jl2) and (jl1==jk2):\n",
    "    print('奖金为3000元')\n",
    "if ((jk1==jk2) and (jl1 != jl2)) or ((jl1==jl2) and (jk1 != jk2)):\n",
    "    print('奖金为1000元')\n",
    "else:\n",
    "    print('无奖金')"
   ]
  },
  {
   "cell_type": "code",
   "execution_count": null,
   "metadata": {},
   "outputs": [],
   "source": []
  },
  {
   "cell_type": "markdown",
   "metadata": {},
   "source": [
    "# Homework\n",
    "- 1\n",
    "![](../Photo/42.png)"
   ]
  },
  {
   "cell_type": "code",
   "execution_count": 1,
   "metadata": {},
   "outputs": [
    {
     "name": "stdout",
     "output_type": "stream",
     "text": [
      "请输入三个数1.0,3,1\n",
      "The roots are  -0.381966 and -2.61803\n",
      "请输入三个数1,2.0,1\n",
      "The root is  -1.0\n",
      "请输入三个数1,2,3\n",
      "The equation has no real roots \n"
     ]
    }
   ],
   "source": [
    "for i  in range(3):\n",
    "    a,b,c=eval(input('请输入三个数'))\n",
    "    r1=(-b+(b*b-4*a*c)**0.5)/2*a\n",
    "    r2=(-b-(b*b-4*a*c)**0.5)/2*a\n",
    "    if (b*b-4*a*c)>0:\n",
    "        print('The roots are ',round(r1,6),'and',round(r2,5))\n",
    "    if (b*b-4*a*c)==0:\n",
    "        print('The root is ',r1)\n",
    "    if (b*b-4*a*c)<0:\n",
    "        print('The equation has no real roots ')"
   ]
  },
  {
   "cell_type": "code",
   "execution_count": null,
   "metadata": {},
   "outputs": [],
   "source": []
  },
  {
   "cell_type": "markdown",
   "metadata": {},
   "source": [
    "- 2\n",
    "![](../Photo/43.png)"
   ]
  },
  {
   "cell_type": "code",
   "execution_count": 14,
   "metadata": {},
   "outputs": [],
   "source": [
    "import random"
   ]
  },
  {
   "cell_type": "code",
   "execution_count": 4,
   "metadata": {},
   "outputs": [
    {
     "name": "stdout",
     "output_type": "stream",
     "text": [
      "81 57\n",
      "请输入这两个数的和163\n",
      "假\n"
     ]
    }
   ],
   "source": [
    "k1=random.randrange(50,100)\n",
    "k2=random.randrange(50,100)\n",
    "print(k1,k2)\n",
    "c=k1+k2\n",
    "n=eval(input('请输入这两个数的和'))\n",
    "if c==n:\n",
    "    print('真')\n",
    "else:\n",
    "    print('假')"
   ]
  },
  {
   "cell_type": "markdown",
   "metadata": {},
   "source": [
    "- 3\n",
    "![](../Photo/44.png)"
   ]
  },
  {
   "cell_type": "code",
   "execution_count": 2,
   "metadata": {},
   "outputs": [
    {
     "name": "stdout",
     "output_type": "stream",
     "text": [
      "请输入今天的数字1\n",
      "请输入今天之后未来某天的天数3\n",
      "Today is Monday and the future day is Thursday\n",
      "请输入今天的数字0\n",
      "请输入今天之后未来某天的天数31\n",
      "Today is Sunday and the future day is Wednesday\n"
     ]
    }
   ],
   "source": [
    "for i  in range(2):\n",
    "    day=eval(input('请输入今天的数字'))\n",
    "    wday=eval(input('请输入今天之后未来某天的天数'))\n",
    "    cday=(day+wday)%7\n",
    "    if day==0:\n",
    "        since = ('Sunday')\n",
    "    elif day==1:\n",
    "        since = ('Monday')\n",
    "    elif day==2:\n",
    "        since = ('Tuesday')\n",
    "    elif day==3:\n",
    "        since = ('Wednesday')\n",
    "    elif day==4:\n",
    "        since = ('Thursday')\n",
    "    elif day==5:\n",
    "        since = ('Friday')\n",
    "    else:\n",
    "        since = ('Saturday')\n",
    "    if cday==0:\n",
    "        weilai = ('Sunday')\n",
    "    elif cday==1:\n",
    "        weilai = ('Monday')\n",
    "    elif cday==2:\n",
    "        weilai = ('Tuesday')\n",
    "    elif cday==3:\n",
    "        weilai= ('Wednesday')\n",
    "    elif cday==4:\n",
    "        weilai = ('Thursday')\n",
    "    elif cday==5:\n",
    "        weilai = ('Friday')\n",
    "    else:\n",
    "        weilai = ('Saturday')    \n",
    "    print('Today is',since,'and the future day is',weilai)"
   ]
  },
  {
   "cell_type": "code",
   "execution_count": null,
   "metadata": {},
   "outputs": [],
   "source": []
  },
  {
   "cell_type": "markdown",
   "metadata": {},
   "source": [
    "- 4\n",
    "![](../Photo/45.png)"
   ]
  },
  {
   "cell_type": "code",
   "execution_count": 1,
   "metadata": {},
   "outputs": [
    {
     "name": "stdout",
     "output_type": "stream",
     "text": [
      "请输入三个整数55,69,33\n",
      "33 55 69\n"
     ]
    }
   ],
   "source": [
    "a,b,c=eval(input('请输入三个整数'))\n",
    "if a>b>c:\n",
    "    print(c,b,a)\n",
    "if b>a>c:\n",
    "    print(c,a,b)\n",
    "if a>c>b:\n",
    "    print(b,c,a)\n",
    "if c>a>b:\n",
    "    print(b,a,c)\n",
    "if b>c>a:\n",
    "    print(a,c,b)\n",
    "if c>b>a:\n",
    "    print(a,b,c)"
   ]
  },
  {
   "cell_type": "code",
   "execution_count": null,
   "metadata": {},
   "outputs": [],
   "source": []
  },
  {
   "cell_type": "markdown",
   "metadata": {},
   "source": [
    "- 5\n",
    "![](../Photo/46.png)"
   ]
  },
  {
   "cell_type": "code",
   "execution_count": 5,
   "metadata": {},
   "outputs": [
    {
     "name": "stdout",
     "output_type": "stream",
     "text": [
      "Enter weight and price for package 1:50,24.59\n",
      "Enter weight and price for package 2:25,11.99\n",
      "Package 2 has the better price\n"
     ]
    }
   ],
   "source": [
    "wap1,money1=eval(input('Enter weight and price for package 1:'))\n",
    "wap2,money2=eval(input('Enter weight and price for package 2:'))\n",
    "if (money1/wap1)>(money2/wap2):\n",
    "    print('Package 2 has the better price')\n",
    "else:\n",
    "    print('Package 1 has the better price')"
   ]
  },
  {
   "cell_type": "code",
   "execution_count": null,
   "metadata": {},
   "outputs": [],
   "source": []
  },
  {
   "cell_type": "markdown",
   "metadata": {},
   "source": [
    "- 6\n",
    "![](../Photo/47.png)"
   ]
  },
  {
   "cell_type": "code",
   "execution_count": 3,
   "metadata": {},
   "outputs": [
    {
     "name": "stdout",
     "output_type": "stream",
     "text": [
      "请输入月和年2,2000\n",
      "2000 年 2 月份有29天\n",
      "请输入月和年3,2005\n",
      "2005 年 3 月份有31天\n"
     ]
    }
   ],
   "source": [
    "for i  in range(2):\n",
    "    month,year=eval(input('请输入月和年'))\n",
    "    if (month==2) and ((year%4==0 and year%100!=0) or (year%100==0)):\n",
    "        print(year,'年',2,'月份有29天')\n",
    "    elif (month==2) and (year%4!=0):\n",
    "        print(year,'年二月份有28天')\n",
    "    elif month==1 or 3 or 5 or 7 or 8 or 10 or 12:\n",
    "        print(year,'年',month,'月份有31天')\n",
    "    elif month==4 or 6 or 9 or 11:\n",
    "        print(year,'年',month,'月份有30天')"
   ]
  },
  {
   "cell_type": "code",
   "execution_count": null,
   "metadata": {},
   "outputs": [],
   "source": []
  },
  {
   "cell_type": "markdown",
   "metadata": {},
   "source": [
    "- 7\n",
    "![](../Photo/48.png)"
   ]
  },
  {
   "cell_type": "code",
   "execution_count": 16,
   "metadata": {},
   "outputs": [
    {
     "name": "stdout",
     "output_type": "stream",
     "text": [
      "请输入正反[0/1]1\n",
      "正确\n"
     ]
    }
   ],
   "source": [
    "xishi=random.randint(0,1)\n",
    "n=eval(input('请输入正反[0/1]'))\n",
    "if xishi==n:\n",
    "    print('正确')\n",
    "else:\n",
    "    print('错误')"
   ]
  },
  {
   "cell_type": "code",
   "execution_count": null,
   "metadata": {},
   "outputs": [],
   "source": []
  },
  {
   "cell_type": "markdown",
   "metadata": {},
   "source": [
    "- 8\n",
    "![](../Photo/49.png)"
   ]
  },
  {
   "cell_type": "code",
   "execution_count": 5,
   "metadata": {},
   "outputs": [],
   "source": [
    "import random"
   ]
  },
  {
   "cell_type": "code",
   "execution_count": 13,
   "metadata": {},
   "outputs": [
    {
     "name": "stdout",
     "output_type": "stream",
     "text": [
      "scissor[o],rock[1],paper[2]: 1\n",
      "The computer is  rock You are  rock  too  It is a draw\n",
      "scissor[o],rock[1],paper[2]: 2\n",
      "The computer is  paper You are  paper  too  It is a draw\n"
     ]
    }
   ],
   "source": [
    "for i  in range(2):\n",
    "    jis=random.randint(0,2)\n",
    "    shuzi=eval(input('scissor[o],rock[1],paper[2]: '))\n",
    "    if jis==0:\n",
    "        c='scissor'\n",
    "    if jis==1:\n",
    "        c='rock'\n",
    "    if jis==2:\n",
    "        c='paper'\n",
    "    if shuzi==0:\n",
    "        d='scissor'\n",
    "    if shuzi==1:\n",
    "        d='rock'\n",
    "    if shuzi==2:\n",
    "        d='paper'\n",
    "    if (jis==0 and shuzi==2) or (jis==1 and shuzi==0) or (jis==2 and shuzi==1):\n",
    "        print('The computer is ',c,'You are ',d,' You lost')\n",
    "    if (shuzi==0 and jis==2) or (shuzi==1 and jis==0) or (shuzi==2 and jis==1):\n",
    "        print('The computer is ',c,'You are ',d,' You won')\n",
    "    if jis==shuzi:\n",
    "        print('The computer is ',c,'You are ',d,' too ','It is a draw')\n",
    "        "
   ]
  },
  {
   "cell_type": "code",
   "execution_count": null,
   "metadata": {},
   "outputs": [],
   "source": []
  },
  {
   "cell_type": "markdown",
   "metadata": {},
   "source": [
    "- 9\n",
    "![](../Photo/50.png)"
   ]
  },
  {
   "cell_type": "code",
   "execution_count": 20,
   "metadata": {},
   "outputs": [
    {
     "name": "stdout",
     "output_type": "stream",
     "text": [
      "Enter year:2013\n",
      "Enter month:1\n",
      "Enter the day of the month:25\n",
      "Day of the week is Friday\n",
      "Enter year:2012\n",
      "Enter month:5\n",
      "Enter the day of the month:12\n",
      "Day of the week is Saturday\n"
     ]
    }
   ],
   "source": [
    "for i  in range(2):\n",
    "    year=eval(input('Enter year:'))\n",
    "    month=eval(input('Enter month:'))\n",
    "    day=eval(input('Enter the day of the month:'))\n",
    "    if month==1:\n",
    "        month,year=13,year-1\n",
    "    if month==2:\n",
    "        month,year=14,year-1\n",
    "    h=(day+(int(26*(month+1))/10)+int(year%100)+int(year%100)/4+(int(year/100)/4)+(int(year/100)*5))%7\n",
    "    if h//1==2:\n",
    "        print('Day of the week is Monday')\n",
    "    elif h//1==3:\n",
    "        print('Day of the week is Tuesday')\n",
    "    elif h//1==4:\n",
    "        print('Day of the week is Wednesday')\n",
    "    elif h//1==5:\n",
    "        print('Day of the week is Thursday')\n",
    "    elif h//1==6:\n",
    "        print('Day of the week is Friday')\n",
    "    elif h//1==0:\n",
    "        print('Day of the week is Saturday')\n",
    "    elif h//1==1:\n",
    "        print('Day of the week is Sunday')"
   ]
  },
  {
   "cell_type": "code",
   "execution_count": null,
   "metadata": {},
   "outputs": [],
   "source": []
  },
  {
   "cell_type": "markdown",
   "metadata": {},
   "source": [
    "- 10\n",
    "![](../Photo/51.png)"
   ]
  },
  {
   "cell_type": "code",
   "execution_count": 35,
   "metadata": {},
   "outputs": [],
   "source": [
    "import random"
   ]
  },
  {
   "cell_type": "code",
   "execution_count": 40,
   "metadata": {},
   "outputs": [
    {
     "name": "stdout",
     "output_type": "stream",
     "text": [
      "The card you picked is the 2 of Hearts\n"
     ]
    }
   ],
   "source": [
    "puke =random.randint(0,51)\n",
    "if puke==0:\n",
    "    print('The card you picked is the Jack of Hearts')\n",
    "elif puke==1:\n",
    "    print('The card you picked is the Jack of Plum Blossom')\n",
    "elif puke ==2:\n",
    "    print('The card you picked is the Jack of diamond')\n",
    "elif puke==3:\n",
    "    print('The card you picked is the Jack of Spade')\n",
    "elif puke==4:\n",
    "    print('The card you picked is the Ace of Hearts')\n",
    "elif puke==5:\n",
    "    print('The card you picked is the Ace of Plum Blossom')\n",
    "elif puke==6:\n",
    "     print('The card you picked is the Ace of diamond')\n",
    "elif puke==7:\n",
    "     print('The card you picked is the Ace of Spade')\n",
    "elif puke ==8:\n",
    "     print('The card you picked is the 2 of Hearts')\n",
    "elif puke==9:\n",
    "     print('The card you picked is the 2 of Plum Blossom')\n",
    "elif puke==10:\n",
    "     print('The card you picked is the 2 of diamond')\n",
    "elif puke==11:\n",
    "    print('The card you picked is the 2 of Spade')\n",
    "elif puke==12:\n",
    "    print('The card you picked is the 3 of Hearts')\n",
    "elif puke==13:\n",
    "    print('The card you picked is the 3 of Plum Blossom')\n",
    "elif puke==14:\n",
    "    print('The card you picked is the 3 of diamond')\n",
    "elif puke==15:\n",
    "    print('The card you picked is the 3 of Spade')\n",
    "elif puke==16:\n",
    "    print('The card you picked is the 4 of Hearts')\n",
    "elif puke==17:\n",
    "    print('The card you picked is the 4 of Plum Blossom')\n",
    "elif puke==18:\n",
    "     print('The card you picked is the 4 of diamond')\n",
    "elif puke==19:\n",
    "    print('The card you picked is the 4 of Spade')\n",
    "elif puke==20:\n",
    "     print('The card you picked is the 5 of Hearts')\n",
    "elif puke==21:\n",
    "    print('The card you picked is the 5 of Plum Blossom')\n",
    "elif puke==22:\n",
    "    print('The card you picked is the 5 of diamond')\n",
    "elif puke==23:\n",
    "     print('The card you picked is the 5 of Spade')\n",
    "elif puke==24:\n",
    "     print('The card you picked is the 6 of Hearts')\n",
    "elif puke==25:\n",
    "    print('The card you picked is the 6 of Plum Blossom')\n",
    "elif puke==26:\n",
    "     print('The card you picked is the 6 of diamond')\n",
    "elif puke==27:\n",
    "     print('The card you picked is the 6 of Spade')\n",
    "elif puke==28:\n",
    "    print('The card you picked is the 7 of Hearts')\n",
    "elif puke==29:\n",
    "     print('The card you picked is the 7 of Plum Blossom')\n",
    "elif puke==30:\n",
    "    print('The card yo')\n",
    "elif puke==31:\n",
    "    print('The card you picked is the 7 of Spade')\n",
    "elif puke==32:\n",
    "     print('The card you picked is the 8 of Hearts')\n",
    "elif puke==33:\n",
    "    print('The card you picked is the 8 of Plum Blossom')\n",
    "elif puke==34:\n",
    "     print('The card you picked is the 8 of diamond')\n",
    "elif puke==35:\n",
    "      print('The card you picked is the 8 of Spade')\n",
    "elif puke==36:\n",
    "     print('The card you picked is the 9 of Hearts')\n",
    "elif puke==37:\n",
    "     print('The card you picked is the 9 of Plum Blossom')\n",
    "elif puke==38:\n",
    "    print('The card you picked is the 9 of diamond')\n",
    "elif puke==39:\n",
    "     print('The card you picked is the 9 of Spade')\n",
    "elif puke==40:\n",
    "     print('The card you picked is the Queen of Hearts')\n",
    "elif puke==41:\n",
    "    print('The card you picked is the Queen of Plum Blossom')\n",
    "elif puke==42:\n",
    "     print('The card you picked is the Queen of diamond')\n",
    "elif puke==43:\n",
    "    print('The card you picked is the Queen of Spade')\n",
    "elif puke==44:\n",
    "    print('The card you picked is the 10 of Hearts')\n",
    "elif puke==45:\n",
    "     print('The card you picked is the 10 of Plum Blossom')\n",
    "elif puke==46:\n",
    "    print('The card you picked is the 10 of diamond')\n",
    "elif puke==47:\n",
    "    print('The card you picked is the 10 of Spade')\n",
    "elif puke==48:\n",
    "     print('The card you picked is the King of Hearts')\n",
    "elif puke==49:\n",
    "    print('The card you picked is the King of Plum Blossom')\n",
    "elif puke==50:\n",
    "    print('The card you picked is the King of diamond')\n",
    "elif puke==51:\n",
    "    print('The card you picked is the King of Spade')"
   ]
  },
  {
   "cell_type": "code",
   "execution_count": null,
   "metadata": {},
   "outputs": [],
   "source": []
  },
  {
   "cell_type": "markdown",
   "metadata": {},
   "source": [
    "- 11\n",
    "![](../Photo/52.png)"
   ]
  },
  {
   "cell_type": "code",
   "execution_count": 32,
   "metadata": {},
   "outputs": [
    {
     "name": "stdout",
     "output_type": "stream",
     "text": [
      "Enter a three-digit integer: 121\n",
      "121  is a palindrome\n"
     ]
    }
   ],
   "source": [
    "shu=eval(input('Enter a three-digit integer: '))\n",
    "shu1=shu%10\n",
    "shu2=shu%100//10\n",
    "shu3=shu//100%10\n",
    "shu4=shu1*100+shu2*10+shu3\n",
    "if shu==shu4:\n",
    "    print(shu,' is a palindrome')\n",
    "else:\n",
    "    print(shu,' is not a palindrome')"
   ]
  },
  {
   "cell_type": "code",
   "execution_count": null,
   "metadata": {},
   "outputs": [],
   "source": []
  },
  {
   "cell_type": "markdown",
   "metadata": {},
   "source": [
    "- 12\n",
    "![](../Photo/53.png)"
   ]
  },
  {
   "cell_type": "code",
   "execution_count": 33,
   "metadata": {},
   "outputs": [
    {
     "name": "stdout",
     "output_type": "stream",
     "text": [
      "Enter three edge: 1,1,1\n",
      "The perimeter is  3\n"
     ]
    }
   ],
   "source": [
    "d1,d2,d3=eval(input('Enter three edge: '))\n",
    "p=d1+d2+d3\n",
    "if (d1+d2)>d3 and (d1+d3)>d2 and (d2+d3)>d1:\n",
    "    print('The perimeter is ',p)\n",
    "else:\n",
    "    print('非法')"
   ]
  },
  {
   "cell_type": "code",
   "execution_count": null,
   "metadata": {},
   "outputs": [],
   "source": []
  }
 ],
 "metadata": {
  "kernelspec": {
   "display_name": "Python 3",
   "language": "python",
   "name": "python3"
  },
  "language_info": {
   "codemirror_mode": {
    "name": "ipython",
    "version": 3
   },
   "file_extension": ".py",
   "mimetype": "text/x-python",
   "name": "python",
   "nbconvert_exporter": "python",
   "pygments_lexer": "ipython3",
   "version": "3.7.3"
  }
 },
 "nbformat": 4,
 "nbformat_minor": 2
}
